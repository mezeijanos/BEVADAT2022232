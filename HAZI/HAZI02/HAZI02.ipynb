{
  "cells": [
    {
      "cell_type": "code",
      "execution_count": 1,
      "metadata": {
        "id": "rdwGLoe8C3yN"
      },
      "outputs": [],
      "source": [
        "import numpy as np"
      ]
    },
    {
      "cell_type": "code",
      "execution_count": null,
      "metadata": {
        "id": "GLckj93FC3yO"
      },
      "outputs": [],
      "source": [
        "#FONTOS!!!\n",
        "\n",
        "# CSAK OTT LEHET HASZNÁLNI FOR LOOP-OT AHOL A FELADAT KÜLÖN KÉRI!\n",
        "# [1,2,3,4] --> ezek az értékek np.array-ek. Ahol listát kérek paraméterként ott külön ki fogom emelni!\n",
        "# Ha végeztél a feladatokkal, akkor notebook-ot alakítsd át .py.\n",
        "# A FÁJLBAN CSAK A FÜGGVÉNYEK LEGYENEK! (KOMMENTEK MARADHATNAK)"
      ]
    },
    {
      "cell_type": "code",
      "execution_count": null,
      "metadata": {
        "id": "D9pS8s1sC3yO"
      },
      "outputs": [],
      "source": [
        "# Írj egy olyan fügvényt, ami megfordítja egy 2d array oszlopait. Bemenetként egy array-t vár.\n",
        "# Be: [[1,2],[3,4]]\n",
        "# Ki: [[2,1],[4,3]]\n",
        "# column_swap()"
      ]
    },
    {
      "cell_type": "code",
      "source": [
        "def column_swap(array: np.array) -> np.array:\n",
        "  arr = np.fliplr(array)\n",
        "  return arr\n",
        "\n",
        "#a = np.array([[1,2,3],[4,3,4],[6,6,4]])\n",
        "#print(column_swap(a))"
      ],
      "metadata": {
        "id": "EvlxaL0sC4ui"
      },
      "execution_count": 2,
      "outputs": []
    },
    {
      "cell_type": "code",
      "execution_count": null,
      "metadata": {
        "id": "Bq_bONfqC3yO"
      },
      "outputs": [],
      "source": [
        "# Készíts egy olyan függvényt ami összehasonlít két array-t és adjon vissza egy array-ben, hogy hol egyenlőek \n",
        "# Pl Be: [7,8,9], [9,8,7] \n",
        "# Ki: [1]\n",
        "# compare_two_array()\n",
        "# egyenlő elemszámúakra kell csak hogy működjön"
      ]
    },
    {
      "cell_type": "code",
      "source": [
        "def compare_two_array(array1: np.array, array2: np.array) -> np.array:\n",
        "  #return np.all(np.isin(array1, array2)) and np.all(np.isin(array2, array1))\n",
        "  return np.where(array1 == array2)[0]\n",
        "  \n",
        "\n",
        "a = np.array([7,8,9])\n",
        "b = np.array([9,8,7])\n",
        "print(compare_two_array(a,b))"
      ],
      "metadata": {
        "colab": {
          "base_uri": "https://localhost:8080/"
        },
        "id": "1PxDwKx_EUtZ",
        "outputId": "01388203-496b-455e-c16c-8b0a4b238605"
      },
      "execution_count": 14,
      "outputs": [
        {
          "output_type": "stream",
          "name": "stdout",
          "text": [
            "[1]\n"
          ]
        }
      ]
    },
    {
      "cell_type": "code",
      "execution_count": null,
      "metadata": {
        "id": "uRztqFlDC3yP"
      },
      "outputs": [],
      "source": [
        "# Készíts egy olyan függvényt, ami visszaadja string-ként a megadott array dimenzióit:\n",
        "# Be: [[1,2,3], [4,5,6]]\n",
        "# Ki: \"sor: 2, oszlop: 3, melyseg: 1\"\n",
        "# get_array_shape()\n",
        "# 3D-vel még működnie kell!, "
      ]
    },
    {
      "cell_type": "code",
      "source": [
        "def get_array_shape(arr: np.array) -> str:\n",
        "  shape = arr.shape\n",
        "  if len(shape) == 1:\n",
        "    return f\"sor: 1, oszlop: {shape[0]}, melyseg: 1\"    #csak egy elemű tömb, 1x1\n",
        "  if len(shape) == 2:\n",
        "    return f\"sor: {shape[0]}, oszlop: {shape[1]}, melyseg: 1\"   #nxm, de csak 2D\n",
        "  return f\"sor: {shape[1]}, oszlop: {shape[2]}, melyseg: {shape[0]}\"  #3d shape (réteg, sor, oszlop)\n",
        "\n",
        "\n",
        "#n = np.array([1])\n",
        "#k = np.array([1,2,3])\n",
        "#a = np.array([[1,2,3], [4,5,6]] )\n",
        "#z = np.array([[[1, 2, 3], [4, 5, 6]], [[1, 2, 3], [4, 5, 6]]])\n",
        "#print(get_array_shape(z))\n"
      ],
      "metadata": {
        "colab": {
          "base_uri": "https://localhost:8080/"
        },
        "id": "oKgF5sZOL6WK",
        "outputId": "869a2a9c-4616-4027-f308-136406ac2863"
      },
      "execution_count": 51,
      "outputs": [
        {
          "output_type": "stream",
          "name": "stdout",
          "text": [
            "sor: 2, oszlop: 3, melyseg: 2\n"
          ]
        }
      ]
    },
    {
      "cell_type": "code",
      "execution_count": null,
      "metadata": {
        "id": "s6XqoDNTC3yP"
      },
      "outputs": [],
      "source": [
        "# Készíts egy olyan függvényt, aminek segítségével elő tudod állítani egy neurális hálózat tanításához szükséges pred-et egy numpy array-ből. \n",
        "# Bementként add meg az array-t, illetve hogy mennyi class-od van. Kimenetként pedig adjon vissza egy 2d array-t, ahol a sorok az egyes elemek. Minden nullákkal teli legyen és csak ott álljon egyes, ahol a bementi tömb megjelöli. \n",
        "# Pl. ha 1 van a bemeneten és 4 classod van, akkor az adott sorban az array-ban a [1] helyen álljon egy 1-es, a többi helyen pedig 0.\n",
        "# Be: [1, 2, 0, 3], 4\n",
        "# Ki: [[0,1,0,0], [0, 0, 1, 0], [1, 0, 0, 0], [0, 0, 0, 1]]\n",
        "# encode_Y()"
      ]
    },
    {
      "cell_type": "code",
      "source": [
        "def encode_Y(array: np.array, n_classes: int) -> np.array:\n",
        "    encoded_y = np.zeros((len(array), n_classes))\n",
        "    for i in range(len(array)):\n",
        "        if array[i] != 0:\n",
        "            encoded_y[i, array[i]-1] = 1\n",
        "    return encoded_y\n",
        "\n",
        "#t = np.array([1, 3, 0, 3])\n",
        "#print(encode_Y(t, 4))"
      ],
      "metadata": {
        "colab": {
          "base_uri": "https://localhost:8080/"
        },
        "id": "AXmDrtwP1z_q",
        "outputId": "508b3b91-859f-4b4e-f855-ca2ffc39b355"
      },
      "execution_count": 55,
      "outputs": [
        {
          "output_type": "stream",
          "name": "stdout",
          "text": [
            "[[1. 0. 0. 0.]\n",
            " [0. 0. 1. 0.]\n",
            " [0. 0. 0. 0.]\n",
            " [0. 0. 1. 0.]]\n"
          ]
        }
      ]
    },
    {
      "cell_type": "code",
      "execution_count": null,
      "metadata": {
        "id": "94NWm6mmC3yP"
      },
      "outputs": [],
      "source": [
        "# A fenti feladatnak valósítsd meg a kiértékelését. Adj meg a 2d array-t és adj vissza a decodolt változatát\n",
        "# Be:  [[0,1,0,0], [0, 0, 1, 0], [1, 0, 0, 0], [0, 0, 0, 1]]\n",
        "# Ki:  [1, 2, 0, 3]\n",
        "# decode_Y()"
      ]
    },
    {
      "cell_type": "code",
      "source": [
        "def decode_Y(encoded_y: np.array) -> np.array:\n",
        "    return np.argmax(encoded_y, axis=1)\n",
        "\n",
        "#enc = np.array([[0,1,0,0], [0, 0, 1, 0], [1, 0, 0, 0], [0, 0, 0, 1]])\n",
        "#print(decode_Y(enc))"
      ],
      "metadata": {
        "colab": {
          "base_uri": "https://localhost:8080/"
        },
        "id": "outw2jo3DCfd",
        "outputId": "83993308-c800-473c-df87-4cfa96c97118"
      },
      "execution_count": 59,
      "outputs": [
        {
          "output_type": "stream",
          "name": "stdout",
          "text": [
            "[1 2 0 3]\n"
          ]
        }
      ]
    },
    {
      "cell_type": "code",
      "execution_count": null,
      "metadata": {
        "id": "Gy-fT5rGC3yP"
      },
      "outputs": [],
      "source": [
        "# Készíts egy olyan függvényt, ami képes kiértékelni egy neurális háló eredményét! Bemenetként egy listát és egy array-t és adja vissza azt az elemet, aminek a legnagyobb a valószínüsége(értéke) a listából.\n",
        "# Be: ['alma', 'körte', 'szilva'], [0.2, 0.2, 0.6]. # Az ['alma', 'körte', 'szilva'] egy lista!\n",
        "# Ki: 'szilva'\n",
        "# eval_classification()"
      ]
    },
    {
      "cell_type": "code",
      "source": [
        "def eval_classification(lista: list, array:np.array) -> str:\n",
        "    return lista[np.argmax(array)]\n",
        "\n",
        "#l = ['alma', 'körte', 'szilva']\n",
        "#a = [0.2, 0.2, 0.6]\n",
        "#print(eval_classification(l, a))"
      ],
      "metadata": {
        "colab": {
          "base_uri": "https://localhost:8080/"
        },
        "id": "c1kUA95PGLBS",
        "outputId": "e1daf246-6e11-41d9-82b0-b28c59f8a0ed"
      },
      "execution_count": 61,
      "outputs": [
        {
          "output_type": "stream",
          "name": "stdout",
          "text": [
            "szilva\n"
          ]
        }
      ]
    },
    {
      "cell_type": "code",
      "execution_count": null,
      "metadata": {
        "id": "rOWzN12_C3yQ"
      },
      "outputs": [],
      "source": [
        "# Készíts egy olyan függvényt, ahol az 1D array-ben a páratlan számokat -1-re cseréli\n",
        "# Be: [1,2,3,4,5,6]\n",
        "# Ki: [-1,2,-1,4,-1,6]\n",
        "# replace_odd_numbers()"
      ]
    },
    {
      "cell_type": "code",
      "source": [
        "def replace_odd_numbers(arr:np.array) -> np.array:\n",
        "    arr[arr % 2 == 1] = -1\n",
        "    return arr\n"
      ],
      "metadata": {
        "colab": {
          "base_uri": "https://localhost:8080/"
        },
        "id": "YHoRMFEQJcxK",
        "outputId": "d3361b05-161a-4d72-e382-51074fffaab4"
      },
      "execution_count": 65,
      "outputs": [
        {
          "output_type": "stream",
          "name": "stdout",
          "text": [
            "[-1  2 -1  4 -1  6]\n"
          ]
        }
      ]
    },
    {
      "cell_type": "code",
      "execution_count": null,
      "metadata": {
        "id": "L3LxvgfcC3yQ"
      },
      "outputs": [],
      "source": [
        "# Készíts egy olyan függvényt, ami egy array értékeit -1 és 1-re változtatja, attól függően, hogy az adott elem nagyobb vagy kisebb a paraméterként megadott számnál.\n",
        "# Ha a szám kisebb mint a megadott érték, akkor -1, ha nagyobb vagy egyenlő, akkor pedig 1.\n",
        "# Be: [1, 2, 5, 0], 2\n",
        "# Ki: [-1, 1, 1, -1]\n",
        "# replace_by_value()"
      ]
    },
    {
      "cell_type": "code",
      "source": [
        "def replace_by_value(arr: np.array, threshold : int) -> np.array:\n",
        "  arr[arr < threshold] = -1\n",
        "  arr[arr >= threshold] = 1\n",
        "  return arr\n",
        "\n",
        "#print(replace_by_value(np.array([1, 2, 5, 0]), 2))\n"
      ],
      "metadata": {
        "colab": {
          "base_uri": "https://localhost:8080/"
        },
        "id": "2rfJtk_UKIKi",
        "outputId": "5b4bfbb6-0876-44ff-d290-2ba17b6f0ebf"
      },
      "execution_count": 68,
      "outputs": [
        {
          "output_type": "stream",
          "name": "stdout",
          "text": [
            "[-1  1  1 -1]\n"
          ]
        }
      ]
    },
    {
      "cell_type": "code",
      "execution_count": null,
      "metadata": {
        "id": "2WbvYDMnC3yQ"
      },
      "outputs": [],
      "source": [
        "# Készíts egy olyan függvényt, ami egy array értékeit összeszorozza és az eredményt visszaadja\n",
        "# Be: [1,2,3,4]\n",
        "# Ki: 24\n",
        "# array_multi()\n",
        "# Ha több dimenziós a tömb, akkor az egész tömb elemeinek szorzatával térjen vissza"
      ]
    },
    {
      "cell_type": "code",
      "source": [
        "def array_multi(array: np.array) -> int:\n",
        "  return np.prod(array)\n",
        "\n"
      ],
      "metadata": {
        "colab": {
          "base_uri": "https://localhost:8080/"
        },
        "id": "I-3HyCZiLQx6",
        "outputId": "e6d9c4a0-c552-42af-9a6d-a54e2add9deb"
      },
      "execution_count": 70,
      "outputs": [
        {
          "output_type": "stream",
          "name": "stdout",
          "text": [
            "576\n"
          ]
        }
      ]
    },
    {
      "cell_type": "code",
      "execution_count": null,
      "metadata": {
        "id": "nowbCJAXC3yR"
      },
      "outputs": [],
      "source": [
        "# Készíts egy olyan függvényt, ami egy 2D array értékeit összeszorozza és egy olyan array-el tér vissza, aminek az elemei a soroknak a szorzata\n",
        "# Be: [[1, 2], [3, 4]]\n",
        "# Ki: [2, 12]\n",
        "# array_multi_2d()"
      ]
    },
    {
      "cell_type": "code",
      "source": [
        "def array_multi_2d(array: np.array) -> np.array:\n",
        "  return np.prod(array, axis=1)\n",
        "\n"
      ],
      "metadata": {
        "colab": {
          "base_uri": "https://localhost:8080/"
        },
        "id": "WfFkv5RtMaYd",
        "outputId": "e151dd76-314d-43d5-dd27-0f69af46c8a1"
      },
      "execution_count": 74,
      "outputs": [
        {
          "output_type": "stream",
          "name": "stdout",
          "text": [
            "[ 2 12]\n"
          ]
        }
      ]
    },
    {
      "cell_type": "code",
      "execution_count": null,
      "metadata": {
        "id": "SOy4GQcRC3yR"
      },
      "outputs": [],
      "source": [
        "# Készíts egy olyan függvényt, amit egy meglévő numpy array-hez készít egy bordert nullásokkal. Bementként egy array-t várjon és kimenetként egy array jelenjen meg aminek van border-je\n",
        "# Be: [[1,2],[3,4]]\n",
        "# Ki: [[0,0,0,0],[0,1,2,0],[0,3,4,0],[0,0,0,0]]\n",
        "# add_border()\n"
      ]
    },
    {
      "cell_type": "code",
      "source": [
        "def add_border(array: np.array) -> np.array:\n",
        "  x = np.pad(array, pad_width=1, mode='constant', constant_values=0)\n",
        "  return x\n"
      ],
      "metadata": {
        "colab": {
          "base_uri": "https://localhost:8080/"
        },
        "id": "gxN7-amAQqvJ",
        "outputId": "e6d3d591-8843-4edc-ffd7-42aebb2b15c6"
      },
      "execution_count": 76,
      "outputs": [
        {
          "output_type": "stream",
          "name": "stdout",
          "text": [
            "[[0 0 0 0]\n",
            " [0 1 2 0]\n",
            " [0 3 4 0]\n",
            " [0 0 0 0]]\n"
          ]
        }
      ]
    },
    {
      "cell_type": "code",
      "execution_count": null,
      "metadata": {
        "id": "fJy3fW4DC3yR"
      },
      "outputs": [],
      "source": [
        "# A KÖTVETKEZŐ FELADATOKHOZ NÉZZÉTEK MEG A NUMPY DATA TYPE-JÁT!"
      ]
    },
    {
      "cell_type": "code",
      "execution_count": null,
      "metadata": {
        "id": "e4EMh6dJC3yR"
      },
      "outputs": [],
      "source": [
        "# Készíts egy olyan függvényt ami két dátum között felsorolja az összes napot és ezt adja vissza egy numpy array-ben. A fgv ként str vár paraméterként 'YYYY-MM' formában.\n",
        "# Be: '2023-03', '2023-04'  # mind a kettő paraméter str.\n",
        "# Ki: ['2023-03-01', '2023-03-02', .. , '2023-03-31',]\n",
        "# list_days()"
      ]
    },
    {
      "cell_type": "code",
      "execution_count": null,
      "metadata": {
        "id": "zKOLbnPKC3yS"
      },
      "outputs": [],
      "source": [
        "# Írj egy fügvényt ami vissza adja az aktuális dátumot az alábbi formában: YYYY-MM-DD. Térjen vissza egy 'numpy.datetime64' típussal.\n",
        "# Be:\n",
        "# Ki: 2017-03-24\n",
        "# get_act_date()"
      ]
    },
    {
      "cell_type": "code",
      "execution_count": null,
      "metadata": {
        "id": "7_0GOzS7C3yS"
      },
      "outputs": [],
      "source": [
        "# Írj egy olyan függvényt ami visszadja, hogy mennyi másodperc telt el 1970 január 01. 00:02:00 óta. Int-el térjen vissza\n",
        "# Be: \n",
        "# Ki: másodpercben az idó, int-é kasztolva\n",
        "# sec_from_1970()"
      ]
    }
  ],
  "metadata": {
    "kernelspec": {
      "display_name": "Python 3",
      "language": "python",
      "name": "python3"
    },
    "language_info": {
      "codemirror_mode": {
        "name": "ipython",
        "version": 3
      },
      "file_extension": ".py",
      "mimetype": "text/x-python",
      "name": "python",
      "nbconvert_exporter": "python",
      "pygments_lexer": "ipython3",
      "version": "3.10.7"
    },
    "orig_nbformat": 4,
    "colab": {
      "provenance": []
    }
  },
  "nbformat": 4,
  "nbformat_minor": 0
}