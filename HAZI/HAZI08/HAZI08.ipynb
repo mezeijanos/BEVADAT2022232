{
  "cells": [
    {
      "cell_type": "code",
      "execution_count": 1,
      "metadata": {
        "id": "2dx-BQseDH6x"
      },
      "outputs": [],
      "source": [
        "import numpy as np\n",
        "import matplotlib.pyplot as plt\n",
        "import pandas as pd\n",
        "\n",
        "from sklearn.datasets import load_iris\n",
        "from sklearn.model_selection import train_test_split\n",
        "from sklearn.linear_model import LinearRegression, LogisticRegression\n",
        "from sklearn.metrics import mean_squared_error"
      ]
    },
    {
      "cell_type": "code",
      "execution_count": null,
      "metadata": {
        "id": "y7_zZz22DH6y"
      },
      "outputs": [],
      "source": [
        "'''\n",
        "Készíts egy függvényt, betölti majd vissza adja az iris adathalmazt.\n",
        "\n",
        "\n",
        "Egy példa a kimenetre: iris\n",
        "return type: sklearn.utils.Bunch\n",
        "függvény neve: load_iris_data\n",
        "'''"
      ]
    },
    {
      "cell_type": "code",
      "execution_count": 2,
      "metadata": {
        "id": "y3L4jhayDH6y"
      },
      "outputs": [],
      "source": [
        "def load_iris_data():\n",
        "    iris = load_iris()\n",
        "    return iris"
      ]
    },
    {
      "cell_type": "code",
      "execution_count": null,
      "metadata": {
        "id": "8Pt_w0Q8DH6y"
      },
      "outputs": [],
      "source": [
        "'''\n",
        "Készíts egy függvényt, ami a betölti az virágokhoz tartozó levél méretket egy dataframebe, majd az első 5 sort visszaadja.\n",
        "Minden oszlop tartalmazza, hogy az milyen mérethez tartozik.\n",
        "\n",
        "Egy példa a bemenetre: iris\n",
        "Egy példa a kimenetre: iris_df\n",
        "return type: pandas.core.frame.DataFrame\n",
        "függvény neve: check_data\n",
        "'''"
      ]
    },
    {
      "cell_type": "code",
      "execution_count": 7,
      "metadata": {
        "id": "5VrkLnqwDH6z"
      },
      "outputs": [],
      "source": [
        "def check_data(iris):\n",
        "    data = iris.data[:, 2:] # A harmadik és negyedik oszlop kiválasztása (petal length és petal width)\n",
        "    feature_names = iris.feature_names[2:] # A tulajdonságok neveinek kiválasztása\n",
        "    target_names = iris.target_names # A célok neveinek kiválasztása\n",
        "    target = iris.target # A célok kiválasztása\n",
        "\n",
        "    #df\n",
        "    iris_df = pd.DataFrame(data, columns=feature_names)\n",
        "    iris_df['target'] = target\n",
        "    iris_df['target_names'] = iris.target_names[target]\n",
        "\n",
        "    # Az első 5 sort adja vissza\n",
        "    return iris_df.head()"
      ]
    },
    {
      "cell_type": "code",
      "execution_count": null,
      "metadata": {
        "id": "VhfBwU3UDH6z"
      },
      "outputs": [],
      "source": [
        "''' \n",
        "Készíts egy függvényt ami előkészíti az adatokat egy lineaáris regressziós model feltanításához.\n",
        "Featurejeink legyenek a levél méretek kivéve a \"sepal length (cm)\", ez legyen a targetünk.\n",
        "\n",
        "Egy példa a bemenetre: iris\n",
        "Egy példa a kimenetre: X, y\n",
        "return type: (numpy.ndarray, numpy.ndarray)\n",
        "függvény neve: linear_train_data\n",
        "'''"
      ]
    },
    {
      "cell_type": "code",
      "execution_count": 8,
      "metadata": {
        "id": "Cyy70uxTDH6z"
      },
      "outputs": [],
      "source": [
        "def linear_train_data(iris):\n",
        "    data = iris.data[:, 2:]\n",
        "    feature_names = iris.feature_names[2:]\n",
        "    target = iris.data[:, 0]\n",
        "\n",
        "    # A tulajdonságok és célváltozó átalakítása numpy tömbökké\n",
        "    X = np.array(data)\n",
        "    y = np.array(target)\n",
        "\n",
        "    # A sepal length (cm) eltávolítása a tulajdonságok közül\n",
        "    X = np.delete(X, 0, axis=1)\n",
        "    feature_names = np.delete(feature_names, 0)\n",
        "\n",
        "    #tulajdonságok és a célváltozó numpy tömbökben\n",
        "    return X, y"
      ]
    },
    {
      "cell_type": "code",
      "execution_count": null,
      "metadata": {
        "id": "hy1w6-aSDH6z"
      },
      "outputs": [],
      "source": [
        "''' \n",
        "Készíts egy függvényt ami előkészíti az adatokat egy logisztikus regressziós model feltanításához.\n",
        "Featurejeink legyenek a levél méretek, targetünk pedig a 0, 1-es virág osztályok.\n",
        "Fontos csak azokkal az adatokkal tanítsunk amihez tartozik adott target. \n",
        "\n",
        "Egy példa a bemenetre: iris\n",
        "Egy példa a kimenetre: X, y\n",
        "return type: (numpy.ndarray, numpy.ndarray)\n",
        "függvény neve: logistic_train_data\n",
        "'''"
      ]
    },
    {
      "cell_type": "code",
      "execution_count": 10,
      "metadata": {
        "id": "GswWVoGKDH6z"
      },
      "outputs": [],
      "source": [
        "def logistic_train_data(iris):\n",
        "    data = iris.data[:, 2:]\n",
        "    target = iris.target\n",
        "\n",
        "    # Az osztálycímkék átalakítása numpy tömbbé\n",
        "    y = np.array(target)\n",
        "\n",
        "    # Az összes 0 vagy 1 értékű virágot kiválasztjuk\n",
        "    mask = np.logical_or(y == 0, y == 1)\n",
        "\n",
        "    # A tulajdonságok kiválasztása csak azokkal az adatokkal, amelyek a 0 vagy 1 osztályhoz tartoznak\n",
        "    X = data[mask]\n",
        "    y = y[mask]\n",
        "\n",
        "    return X, y"
      ]
    },
    {
      "cell_type": "code",
      "execution_count": null,
      "metadata": {
        "id": "P2AhuIrCDH60"
      },
      "outputs": [],
      "source": [
        "'''\n",
        "Készíts egy függvényt ami feldarabolja az adatainkat train és test részre. Az adatok 20%-át használjuk fel a teszteléshez.\n",
        "Tegyük determenisztikussá a darabolást, ennek értéke legyen 42.\n",
        "\n",
        "Egy példa a bemenetre: X, y\n",
        "Egy példa a kimenetre: X_train, X_test, y_train, y_test\n",
        "return type: (numpy.ndarray, numpy.ndarray, numpy.ndarray, numpy.ndarray)\n",
        "függvény neve: split_data\n",
        "'''"
      ]
    },
    {
      "cell_type": "code",
      "execution_count": 11,
      "metadata": {
        "id": "RdM6B86DDH60"
      },
      "outputs": [],
      "source": [
        "def split_data(X, y):\n",
        "    X_train, X_test, y_train, y_test = train_test_split(X, y, test_size=0.2, random_state=42)\n",
        "\n",
        "    return X_train, X_test, y_train, y_test"
      ]
    },
    {
      "cell_type": "code",
      "execution_count": null,
      "metadata": {
        "id": "VQRmDFFzDH60"
      },
      "outputs": [],
      "source": [
        "'''\n",
        "Készíts egy függvényt ami feltanít egy lineáris regressziós modelt, majd visszatér vele.\n",
        "\n",
        "Egy példa a bemenetre: X_train, y_train\n",
        "Egy példa a kimenetre: model\n",
        "return type: sklearn.linear_model._base.LinearRegression\n",
        "függvény neve: train_linear_regression\n",
        "'''"
      ]
    },
    {
      "cell_type": "code",
      "execution_count": 12,
      "metadata": {
        "id": "XfoEuVkEDH60"
      },
      "outputs": [],
      "source": [
        "def train_linear_regression(X_train, y_train):\n",
        "    # Lineáris regressziós modell inicializálása\n",
        "    model = LinearRegression()\n",
        "\n",
        "    # A modell betanítása a train adatokkal\n",
        "    model.fit(X_train, y_train)\n",
        "\n",
        "    # A függvény visszatér a betanított modell objektummal\n",
        "    return model"
      ]
    },
    {
      "cell_type": "code",
      "execution_count": null,
      "metadata": {
        "id": "YgtI-1k3DH60"
      },
      "outputs": [],
      "source": [
        "'''\n",
        "Készíts egy függvényt ami feltanít egy logisztikus regressziós modelt, majd visszatér vele.\n",
        "\n",
        "Egy példa a bemenetre: X_train, y_train\n",
        "Egy példa a kimenetre: model\n",
        "return type: sklearn.linear_model._base.LogisticRegression\n",
        "függvény neve: train_logistic_regression\n",
        "'''"
      ]
    },
    {
      "cell_type": "code",
      "execution_count": 13,
      "metadata": {
        "id": "UjMGSgu0DH61"
      },
      "outputs": [],
      "source": [
        "def train_logistic_regression(X_train, y_train):\n",
        "\n",
        "    model = LogisticRegression()\n",
        "\n",
        "    model.fit(X_train, y_train)\n",
        "\n",
        "    return model"
      ]
    },
    {
      "cell_type": "code",
      "execution_count": null,
      "metadata": {
        "id": "olv5hlNGDH61"
      },
      "outputs": [],
      "source": [
        "''' \n",
        "Készíts egy függvényt, ami a feltanított modellel predikciót tud végre hajtani.\n",
        "\n",
        "Egy példa a bemenetre: model, X_test\n",
        "Egy példa a kimenetre: y_pred\n",
        "return type: numpy.ndarray\n",
        "függvény neve: predict\n",
        "'''"
      ]
    },
    {
      "cell_type": "code",
      "execution_count": 14,
      "metadata": {
        "id": "M-ISu-XsDH61"
      },
      "outputs": [],
      "source": [
        "def predict(model, X_test):\n",
        "    # A predikciók elvégzése a X_test adatokon a betanított modell segítségével\n",
        "    y_pred = model.predict(X_test)\n",
        "\n",
        "    # A függvény visszatér a predikciók numpy tömbjével\n",
        "    return y_pred"
      ]
    },
    {
      "cell_type": "code",
      "execution_count": null,
      "metadata": {
        "id": "WuKkSylVDH61"
      },
      "outputs": [],
      "source": [
        "'''\n",
        "Készíts egy függvényt, ami vizualizálni tudja a label és a predikciók közötti eltérést.\n",
        "Használj scatter plotot a diagram elkészítéséhez.\n",
        "\n",
        "Diagram címe legyen: 'Actual vs Predicted Target Values'\n",
        "Az x tengely címe legyen: 'Actual'\n",
        "Az y tengely címe legyen: 'Predicted'\n",
        "\n",
        "Egy példa a bemenetre: y_test, y_pred\n",
        "Egy példa a kimenetre: scatter plot\n",
        "return type: matplotlib.figure.Figure\n",
        "függvény neve: plot_actual_vs_predicted\n",
        "'''"
      ]
    },
    {
      "cell_type": "code",
      "execution_count": 15,
      "metadata": {
        "id": "pxJAPQxGDH61"
      },
      "outputs": [],
      "source": [
        "def plot_actual_vs_predicted(y_test, y_pred):\n",
        "    fig, ax = plt.subplots(figsize=(8, 6))\n",
        "    ax.scatter(y_test, y_pred)\n",
        "    ax.set_title('Actual vs Predicted Target Values')\n",
        "    ax.set_xlabel('Actual')\n",
        "    ax.set_ylabel('Predicted')\n",
        "    return fig\n",
        "\n"
      ]
    },
    {
      "cell_type": "code",
      "execution_count": null,
      "metadata": {
        "id": "qwkQOaSIDH61"
      },
      "outputs": [],
      "source": [
        "''' \n",
        "Készíts egy függvényt, ami a Négyzetes hiba (MSE) értékét számolja ki a predikciók és a valós értékek között.\n",
        "\n",
        "Egy példa a bemenetre: y_test, y_pred\n",
        "Egy példa a kimenetre: mse\n",
        "return type: float\n",
        "függvény neve: evaluate_model\n",
        "'''"
      ]
    },
    {
      "cell_type": "code",
      "execution_count": 16,
      "metadata": {
        "id": "n5rqtFoqDH61"
      },
      "outputs": [],
      "source": [
        "def evaluate_model(y_test, y_pred):\n",
        "    mse = mean_squared_error(y_test, y_pred)\n",
        "    return mse"
      ]
    },
    {
      "cell_type": "code",
      "source": [
        "\"\"\"\n",
        "iris = load_iris_data()\n",
        "#check_data(iris)\n",
        "\n",
        "#linear\n",
        "X_linear, y_linear = linear_train_data(iris)\n",
        "\n",
        "#split\n",
        "X_train, X_test, y_train, y_test = split_data(X_linear, y_linear)\n",
        "\n",
        "#train\n",
        "model = train_linear_regression(X_train, y_train)\n",
        "\n",
        "#predict\n",
        "y_pred = predict(model, X_test)\n",
        "\n",
        "#plot\n",
        "#plot_actual_vs_predicted(y_test, y_pred)\n",
        "\n",
        "#evaluate\n",
        "mse = evaluate_model(y_test, y_pred)\n",
        "print(mse)\n",
        "\"\"\"\n",
        "\n"
      ],
      "metadata": {
        "colab": {
          "base_uri": "https://localhost:8080/"
        },
        "id": "f3lS33GSJjpf",
        "outputId": "a0120b58-ca5e-41ef-9b81-18dab2a64f89"
      },
      "execution_count": 22,
      "outputs": [
        {
          "output_type": "stream",
          "name": "stdout",
          "text": [
            "0.16679303571495843\n"
          ]
        }
      ]
    },
    {
      "cell_type": "code",
      "source": [
        "\"\"\"iris = load_iris_data()\n",
        "\n",
        "#logistic\n",
        "X_logistic, y_logistic = logistic_train_data(iris)\n",
        "\n",
        "#split\n",
        "X_train, X_test, y_train, y_test = split_data(X_logistic, y_logistic)\n",
        "\n",
        "#train\n",
        "model = train_logistic_regression(X_train, y_train)\n",
        "\n",
        "#predict\n",
        "y_pred = predict(model, X_test)\n",
        "\n",
        "#plot\n",
        "plot_actual_vs_predicted(y_test, y_pred)\n",
        "\n",
        "#evaluate\n",
        "mse = evaluate_model(y_test, y_pred)\n",
        "print(mse)\"\"\""
      ],
      "metadata": {
        "colab": {
          "base_uri": "https://localhost:8080/",
          "height": 581
        },
        "id": "RDqC2SOeJvHn",
        "outputId": "553a73b9-b30b-4139-9a36-ab7f026827b3"
      },
      "execution_count": 24,
      "outputs": [
        {
          "output_type": "stream",
          "name": "stdout",
          "text": [
            "0.0\n"
          ]
        },
        {
          "output_type": "display_data",
          "data": {
            "text/plain": [
              "<Figure size 800x600 with 1 Axes>"
            ],
            "image/png": "[encoded data removed]"
          },
          "metadata": {}
        }
      ]
    }
  ],
  "metadata": {
    "kernelspec": {
      "display_name": "Python 3",
      "language": "python",
      "name": "python3"
    },
    "language_info": {
      "codemirror_mode": {
        "name": "ipython",
        "version": 3
      },
      "file_extension": ".py",
      "mimetype": "text/x-python",
      "name": "python",
      "nbconvert_exporter": "python",
      "pygments_lexer": "ipython3",
      "version": "3.10.2"
    },
    "orig_nbformat": 4,
    "colab": {
      "provenance": []
    }
  },
  "nbformat": 4,
  "nbformat_minor": 0
}