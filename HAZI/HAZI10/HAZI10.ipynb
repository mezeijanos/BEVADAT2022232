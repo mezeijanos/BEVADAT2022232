{
  "cells": [
    {
      "cell_type": "code",
      "execution_count": 6,
      "metadata": {
        "id": "hUnAw3QjmJXE"
      },
      "outputs": [],
      "source": [
        "import tensorflow as tf"
      ]
    },
    {
      "cell_type": "code",
      "execution_count": null,
      "metadata": {
        "id": "CpiG8mABmJXF"
      },
      "outputs": [],
      "source": [
        "'''\n",
        "Készíts egy metódust ami a mnist adatbázisból betölti a train és test adatokat. (tf.keras.datasets.mnist.load_data())\n",
        "Majd a tanitó, és tesztelő adatokat normalizálja, és vissza is tér velük.\n",
        "\n",
        "\n",
        "Egy példa a kimenetre: train_images, train_labels, test_images, test_labels\n",
        "függvény neve: mnist_digit_data\n",
        "'''"
      ]
    },
    {
      "cell_type": "code",
      "execution_count": 23,
      "metadata": {
        "id": "_FC2GZYVmJXF"
      },
      "outputs": [],
      "source": [
        "def mnist_digit_data():\n",
        "    # Betöltjük a MNIST adatokat\n",
        "    (train_images, train_labels), (test_images, test_labels) = tf.keras.datasets.mnist.load_data()\n",
        "\n",
        "    # Normalizáljuk az adatokat a [0, 1] tartományba\n",
        "    train_images = train_images / 255.0\n",
        "    test_images = test_images / 255.0\n",
        "\n",
        "    return train_images, train_labels, test_images, test_labels\n",
        "\n",
        "train_images, train_labels, test_images, test_labels = mnist_digit_data()\n"
      ]
    },
    {
      "cell_type": "code",
      "execution_count": null,
      "metadata": {
        "id": "6BDokZwKmJXF"
      },
      "outputs": [],
      "source": [
        "'''\n",
        "Készíts egy neurális hálót, ami képes felismerni a kézírásos számokat.\n",
        "A háló kimenete legyen 10 elemű, és a softmax aktivációs függvényt használja.\n",
        "Hálon belül tetszőleges számú réteg lehet.\n",
        "\n",
        "\n",
        "Egy példa a kimenetre: model,\n",
        "return type: keras.engine.sequential.Sequential\n",
        "függvény neve: mnist_model\n",
        "'''"
      ]
    },
    {
      "cell_type": "code",
      "execution_count": 27,
      "metadata": {
        "id": "wjnCBLyZmJXG"
      },
      "outputs": [],
      "source": [
        "def mnist_model():\n",
        "    # Definiáljuk a hálót\n",
        "    model = tf.keras.Sequential([\n",
        "        # Lapítjuk a réteget\n",
        "        tf.keras.layers.Flatten(input_shape=(28,28)),\n",
        "\n",
        "        # Teljesen összekötött réteg 128 neuronnal\n",
        "        tf.keras.layers.Dense(128, activation=\"relu\"),\n",
        "\n",
        "        # Kimeneti réteg 10 neuronnal, softmax aktivációs függvénnyel\n",
        "        tf.keras.layers.Dense(10, activation=\"softmax\")\n",
        "    ])\n",
        "\n",
        "    # Visszatérünk a hálóval\n",
        "    return model\n",
        "\n",
        "model = mnist_model()\n"
      ]
    },
    {
      "cell_type": "code",
      "execution_count": null,
      "metadata": {
        "id": "aEIOHUAhmJXG"
      },
      "outputs": [],
      "source": [
        "'''\n",
        "Készíts egy metódust, ami a bemeneti hálot compile-olja.\n",
        "Optimizer: Adam\n",
        "Loss: SparseCategoricalCrossentropy(from_logits=False)\n",
        "\n",
        "Egy példa a bemenetre: model\n",
        "Egy példa a kimenetre: model\n",
        "return type: keras.engine.sequential.Sequential\n",
        "függvény neve: model_compile\n",
        "'''"
      ]
    },
    {
      "cell_type": "code",
      "execution_count": 30,
      "metadata": {
        "id": "JP-z9JsWmJXG"
      },
      "outputs": [],
      "source": [
        "def model_compile(model):\n",
        "    model.compile(\n",
        "        optimizer=tf.keras.optimizers.Adam(),\n",
        "        loss=tf.keras.losses.SparseCategoricalCrossentropy(from_logits=False),\n",
        "        metrics=['accuracy'])\n",
        "    return model\n",
        "\n",
        "model = model_compile(model)\n"
      ]
    },
    {
      "cell_type": "code",
      "execution_count": null,
      "metadata": {
        "id": "nKemHo88mJXG"
      },
      "outputs": [],
      "source": [
        "'''\n",
        "Készíts egy metódust, ami a bemeneti hálót feltanítja.\n",
        "\n",
        "Egy példa a bemenetre: model,epochs, train_images, train_labels\n",
        "Egy példa a kimenetre: model\n",
        "return type: keras.engine.sequential.Sequential\n",
        "függvény neve: model_fit\n",
        "'''"
      ]
    },
    {
      "cell_type": "code",
      "execution_count": 31,
      "metadata": {
        "colab": {
          "base_uri": "https://localhost:8080/"
        },
        "id": "q47E4aISmJXG",
        "outputId": "43e322b5-4358-4d18-bb5f-ba76678eb574"
      },
      "outputs": [
        {
          "output_type": "stream",
          "name": "stdout",
          "text": [
            "6000/6000 [==============================] - 24s 4ms/step - loss: 0.2128 - accuracy: 0.9375\n"
          ]
        },
        {
          "output_type": "execute_result",
          "data": {
            "text/plain": [
              "<keras.engine.sequential.Sequential at 0x7f84917d2770>"
            ]
          },
          "metadata": {},
          "execution_count": 31
        }
      ],
      "source": [
        "def model_fit(model, epochs, train_images, train_labels):\n",
        "    model.fit(train_images, train_labels, epochs)\n",
        "    return model\n",
        "\n",
        "model_fit(model, 10, train_images, train_labels)"
      ]
    },
    {
      "cell_type": "code",
      "execution_count": null,
      "metadata": {
        "id": "BQoGaCPUmJXG"
      },
      "outputs": [],
      "source": [
        "'''\n",
        "Készíts egy metódust, ami a bemeneti hálót kiértékeli a teszt adatokon.\n",
        "\n",
        "Egy példa a bemenetre: model, test_images, test_labels\n",
        "Egy példa a kimenetre: test_loss, test_acc\n",
        "return type: float, float\n",
        "függvény neve: model_evaluate\n",
        "'''"
      ]
    },
    {
      "cell_type": "code",
      "execution_count": 32,
      "metadata": {
        "colab": {
          "base_uri": "https://localhost:8080/"
        },
        "id": "w0pFKrH9mJXH",
        "outputId": "20ba09ed-591a-44ea-c7ef-5774d266e5ba"
      },
      "outputs": [
        {
          "output_type": "stream",
          "name": "stdout",
          "text": [
            "313/313 - 1s - loss: 0.1206 - accuracy: 0.9609 - 675ms/epoch - 2ms/step\n"
          ]
        },
        {
          "output_type": "execute_result",
          "data": {
            "text/plain": [
              "(0.12063460797071457, 0.9609000086784363)"
            ]
          },
          "metadata": {},
          "execution_count": 32
        }
      ],
      "source": [
        "def model_evaluate(model, test_images, test_labels):\n",
        "    test_loss, test_acc = model.evaluate(test_images,  test_labels, verbose=2)\n",
        "    return test_loss, test_acc\n",
        "\n",
        "model_evaluate(model, test_images, test_labels)"
      ]
    }
  ],
  "metadata": {
    "kernelspec": {
      "display_name": "Python 3",
      "language": "python",
      "name": "python3"
    },
    "language_info": {
      "codemirror_mode": {
        "name": "ipython",
        "version": 3
      },
      "file_extension": ".py",
      "mimetype": "text/x-python",
      "name": "python",
      "nbconvert_exporter": "python",
      "pygments_lexer": "ipython3",
      "version": "3.10.6"
    },
    "orig_nbformat": 4,
    "colab": {
      "provenance": []
    }
  },
  "nbformat": 4,
  "nbformat_minor": 0
}