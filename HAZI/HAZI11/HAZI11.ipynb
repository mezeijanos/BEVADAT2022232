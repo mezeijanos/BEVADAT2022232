{
  "cells": [
    {
      "cell_type": "code",
      "execution_count": 1,
      "metadata": {
        "id": "QuiwoW8v17uR"
      },
      "outputs": [],
      "source": [
        "\n",
        "import tensorflow as tf\n",
        "import numpy as np\n",
        "\n",
        "'''\n",
        "Készíts egy metódust ami a cifar100 adatbázisból betölti a train és test adatokat. (tf.keras.datasets.cifar100.load_data())\n",
        "Majd a tanitó, és tesztelő adatokat normalizálja, és vissza is tér velük.\n",
        "\n",
        "\n",
        "Egy példa a kimenetre: train_images, train_labels, test_images, test_labels\n",
        "függvény neve: cifar100_data\n",
        "'''\n",
        "\n",
        "def cifar100_data():\n",
        "    (train_images, train_labels), (test_images, test_labels) = tf.keras.datasets.cifar100.load_data()\n",
        "\n",
        "    train_images = train_images.astype('float32') / 255.0\n",
        "    test_images = test_images.astype('float32') / 255.0\n",
        "\n",
        "    return train_images, train_labels, test_images, test_labels\n",
        "\n"
      ]
    },
    {
      "cell_type": "code",
      "source": [
        "train_images, train_labels, test_images, test_labels = cifar100_data()\n"
      ],
      "metadata": {
        "colab": {
          "base_uri": "https://localhost:8080/"
        },
        "id": "pMZGR_qb3I3B",
        "outputId": "234c0ffc-f4ac-4d78-8f69-25f2e73f43aa"
      },
      "execution_count": 2,
      "outputs": [
        {
          "output_type": "stream",
          "name": "stdout",
          "text": [
            "Downloading data from https://www.cs.toronto.edu/~kriz/cifar-100-python.tar.gz\n",
            "169001437/169001437 [==============================] - 2s 0us/step\n"
          ]
        }
      ]
    },
    {
      "cell_type": "code",
      "execution_count": 4,
      "metadata": {
        "id": "5vruytVB17uS"
      },
      "outputs": [],
      "source": [
        "'''\n",
        "Készíts egy konvolúciós neurális hálót, ami képes felismerni a képen mi van a 100 osztály közül.\n",
        "A háló kimenete legyen 100 elemű, és a softmax aktivációs függvényt használja.\n",
        "Hálon belül tetszőleges számú réteg lehet..\n",
        "\n",
        "\n",
        "Egy példa a kimenetre: model,\n",
        "return type: keras.engine.sequential.Sequential\n",
        "függvény neve: cifar100_model\n",
        "'''\n",
        "\n",
        "def cifar100_model():\n",
        "    model = tf.keras.Sequential([\n",
        "\n",
        "        tf.keras.layers.Conv2D(32, (3, 3), activation='relu', input_shape=(32, 32, 3)),\n",
        "        tf.keras.layers.MaxPooling2D((2, 2)),\n",
        "\n",
        "        tf.keras.layers.Conv2D(64, (3, 3), activation='relu'),\n",
        "        tf.keras.layers.MaxPooling2D((2, 2)),\n",
        "\n",
        "        tf.keras.layers.Conv2D(64, (3, 3), activation='relu'),\n",
        "        tf.keras.layers.MaxPooling2D((2, 2)),\n",
        "\n",
        "        tf.keras.layers.Flatten(),\n",
        "\n",
        "        tf.keras.layers.Dense(128, activation='relu'),\n",
        "        tf.keras.layers.Dense(64, activation='relu'),\n",
        "\n",
        "        tf.keras.layers.Dense(100, activation='softmax')\n",
        "    ])\n",
        "\n",
        "    return model\n",
        "\n",
        "model = cifar100_model()\n",
        "\n"
      ]
    },
    {
      "cell_type": "code",
      "execution_count": 5,
      "metadata": {
        "colab": {
          "base_uri": "https://localhost:8080/"
        },
        "id": "aoAnphsp17uS",
        "outputId": "89bd8fab-0c8a-44f3-c942-1f873684a5d7"
      },
      "outputs": [
        {
          "output_type": "execute_result",
          "data": {
            "text/plain": [
              "<keras.engine.sequential.Sequential at 0x7f19a6f18400>"
            ]
          },
          "metadata": {},
          "execution_count": 5
        }
      ],
      "source": [
        "'''\n",
        "Készíts egy metódust, ami a bemeneti hálot compile-olja.\n",
        "Optimizer: Adam\n",
        "Loss: SparseCategoricalCrossentropy(from_logits=False)\n",
        "\n",
        "Egy példa a bemenetre: model\n",
        "Egy példa a kimenetre: model\n",
        "return type: keras.engine.sequential.Sequential\n",
        "függvény neve: model_compile\n",
        "'''\n",
        "\n",
        "def model_compile(model):\n",
        "  model.compile(optimizer='adam', loss=tf.keras.losses.SparseCategoricalCrossentropy(from_logits=False), metrics=['accuracy'])\n",
        "  return model\n",
        "\n",
        "model_compile(model)"
      ]
    },
    {
      "cell_type": "code",
      "execution_count": 6,
      "metadata": {
        "colab": {
          "base_uri": "https://localhost:8080/"
        },
        "id": "4oV8qJEj17uT",
        "outputId": "0bc01973-cc86-4534-eab8-f44cba5b7211"
      },
      "outputs": [
        {
          "output_type": "stream",
          "name": "stdout",
          "text": [
            "Epoch 1/15\n",
            "1563/1563 [==============================] - 82s 52ms/step - loss: 4.0915 - accuracy: 0.0654\n",
            "Epoch 2/15\n",
            "1563/1563 [==============================] - 82s 53ms/step - loss: 3.4993 - accuracy: 0.1596\n",
            "Epoch 3/15\n",
            "1563/1563 [==============================] - 78s 50ms/step - loss: 3.1869 - accuracy: 0.2168\n",
            "Epoch 4/15\n",
            "1563/1563 [==============================] - 74s 47ms/step - loss: 2.9912 - accuracy: 0.2566\n",
            "Epoch 5/15\n",
            "1563/1563 [==============================] - 72s 46ms/step - loss: 2.8525 - accuracy: 0.2855\n",
            "Epoch 6/15\n",
            "1563/1563 [==============================] - 73s 47ms/step - loss: 2.7381 - accuracy: 0.3044\n",
            "Epoch 7/15\n",
            "1563/1563 [==============================] - 72s 46ms/step - loss: 2.6507 - accuracy: 0.3253\n",
            "Epoch 8/15\n",
            "1563/1563 [==============================] - 73s 47ms/step - loss: 2.5697 - accuracy: 0.3408\n",
            "Epoch 9/15\n",
            "1563/1563 [==============================] - 72s 46ms/step - loss: 2.4980 - accuracy: 0.3542\n",
            "Epoch 10/15\n",
            "1563/1563 [==============================] - 73s 47ms/step - loss: 2.4374 - accuracy: 0.3679\n",
            "Epoch 11/15\n",
            "1563/1563 [==============================] - 74s 47ms/step - loss: 2.3796 - accuracy: 0.3782\n",
            "Epoch 12/15\n",
            "1563/1563 [==============================] - 73s 46ms/step - loss: 2.3311 - accuracy: 0.3891\n",
            "Epoch 13/15\n",
            "1563/1563 [==============================] - 74s 48ms/step - loss: 2.2858 - accuracy: 0.3992\n",
            "Epoch 14/15\n",
            "1563/1563 [==============================] - 72s 46ms/step - loss: 2.2488 - accuracy: 0.4066\n",
            "Epoch 15/15\n",
            "1563/1563 [==============================] - 74s 47ms/step - loss: 2.2125 - accuracy: 0.4158\n"
          ]
        },
        {
          "output_type": "execute_result",
          "data": {
            "text/plain": [
              "<keras.engine.sequential.Sequential at 0x7f19a6f18400>"
            ]
          },
          "metadata": {},
          "execution_count": 6
        }
      ],
      "source": [
        "'''\n",
        "Készíts egy metódust, ami a bemeneti hálót feltanítja.\n",
        "\n",
        "Egy példa a bemenetre: model,epochs, train_images, train_labelsz\n",
        "Egy példa a kimenetre: model\n",
        "return type: keras.engine.sequential.Sequential\n",
        "függvény neve: model_fit\n",
        "'''\n",
        "def model_fit(model, epochs, train_images, train_labels):\n",
        "  model.fit(train_images, train_labels, epochs=epochs)\n",
        "  return model\n",
        "\n",
        "model_fit(model, 15, train_images, train_labels)\n"
      ]
    },
    {
      "cell_type": "code",
      "execution_count": 7,
      "metadata": {
        "colab": {
          "base_uri": "https://localhost:8080/"
        },
        "id": "nQggZdyy17uT",
        "outputId": "26558865-bdc3-4c15-b630-a1dff2d1c226"
      },
      "outputs": [
        {
          "output_type": "stream",
          "name": "stdout",
          "text": [
            "313/313 [==============================] - 5s 14ms/step - loss: 2.6760 - accuracy: 0.3419\n"
          ]
        }
      ],
      "source": [
        "'''\n",
        "Készíts egy metódust, ami a bemeneti hálót kiértékeli a teszt adatokon.\n",
        "\n",
        "Egy példa a bemenetre: model, test_images, test_labels\n",
        "Egy példa a kimenetre: test_loss, test_acc\n",
        "return type: float, float\n",
        "függvény neve: model_evaluate\n",
        "'''\n",
        "\n",
        "def model_evaluate(model, test_images, test_labels):\n",
        "  test_loss, test_accuracy = model.evaluate(test_images, test_labels)\n",
        "\n",
        "model_evaluate(model, test_images, test_labels)\n"
      ]
    }
  ],
  "metadata": {
    "kernelspec": {
      "display_name": "Python 3",
      "language": "python",
      "name": "python3"
    },
    "language_info": {
      "codemirror_mode": {
        "name": "ipython",
        "version": 3
      },
      "file_extension": ".py",
      "mimetype": "text/x-python",
      "name": "python",
      "nbconvert_exporter": "python",
      "pygments_lexer": "ipython3",
      "version": "3.10.6"
    },
    "orig_nbformat": 4,
    "colab": {
      "provenance": []
    }
  },
  "nbformat": 4,
  "nbformat_minor": 0
}