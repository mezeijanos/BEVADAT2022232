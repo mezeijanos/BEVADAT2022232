{
  "cells": [
    {
      "cell_type": "code",
      "execution_count": 2,
      "metadata": {
        "id": "TPgGgs6IAtgX"
      },
      "outputs": [],
      "source": [
        "import numpy as np"
      ]
    },
    {
      "cell_type": "code",
      "execution_count": null,
      "metadata": {
        "id": "kt60TweeAtgY"
      },
      "outputs": [],
      "source": [
        "#FONTOS!!!\n",
        "\n",
        "# CSAK OTT LEHET HASZNÁLNI FOR LOOP-OT AHOL A FELADAT KÜLÖN KÉRI!\n",
        "# [1,2,3,4] --> ezek az értékek np.array-ek. Ahol listát kérek paraméterként ott külön ki fogom emelni!\n",
        "# Ha végeztél a feladatokkal, akkor notebook-ot alakítsd át .py.\n",
        "# A FÁJLBAN CSAK A FÜGGVÉNYEK LEGYENEK! (KOMMENTEK MARADHATNAK)"
      ]
    },
    {
      "cell_type": "code",
      "execution_count": null,
      "metadata": {
        "id": "ouwoTIa-AtgZ"
      },
      "outputs": [],
      "source": []
    },
    {
      "cell_type": "code",
      "execution_count": null,
      "metadata": {
        "id": "jUWWWqeuAtgZ"
      },
      "outputs": [],
      "source": [
        "#Készíts egy függvényt ami létre hoz egy nullákkal teli numpy array-t.\n",
        "#Paraméterei: mérete (tuple-ként), default mérete pedig legyen egy (2,2)\n",
        "#Be: (2,2)\n",
        "#Ki: [[0,0],[0,0]]\n",
        "#create_array()"
      ]
    },
    {
      "cell_type": "code",
      "execution_count": null,
      "metadata": {
        "id": "5y4hLWzSAtgZ"
      },
      "outputs": [],
      "source": [
        "def create_array(size = (2,2)) -> np.array:\n",
        "    return np.zeros(size)\n",
        "\n"
      ]
    },
    {
      "cell_type": "code",
      "execution_count": null,
      "metadata": {
        "id": "xq-CZ-SJAtgZ"
      },
      "outputs": [],
      "source": [
        "#Készíts egy függvényt ami a paraméterként kapott array-t főátlóját feltölti egyesekkel\n",
        "#Be: [[1,2],[3,4]]\n",
        "#Ki: [[1,2],[3,1]]\n",
        "#set_one()"
      ]
    },
    {
      "cell_type": "code",
      "execution_count": null,
      "metadata": {
        "id": "HqAMFczDAtga",
        "outputId": "1042f1c5-52ab-48f7-bbc7-49ef53937f31"
      },
      "outputs": [
        {
          "name": "stdout",
          "output_type": "stream",
          "text": [
            "[[1 2]\n",
            " [3 1]]\n"
          ]
        }
      ],
      "source": [
        "def set_one(array: np.array) -> np.array:   #fill_diagonal view, nincs visszatérési értéke, eredetit módosítja\n",
        "    np.fill_diagonal(array,1)\n",
        "    return array\n",
        "\n",
        "#a = np.array([[1,2],[3,4]])\n",
        "#print(set_one(a))"
      ]
    },
    {
      "cell_type": "code",
      "execution_count": null,
      "metadata": {
        "id": "w28P561nAtga"
      },
      "outputs": [],
      "source": [
        "# Készíts egy függvényt ami transzponálja a paraméterül kapott mártix-ot:\n",
        "# Be: [[1, 2], [3, 4]]\n",
        "# Ki: [[1, 3], [2, 4]]\n",
        "# do_transpose()"
      ]
    },
    {
      "cell_type": "code",
      "execution_count": null,
      "metadata": {
        "id": "jNGZEIsuAtga",
        "outputId": "106038b1-3167-41d9-c177-6dfca09dc340"
      },
      "outputs": [
        {
          "name": "stdout",
          "output_type": "stream",
          "text": [
            "[[1 3]\n",
            " [2 4]]\n"
          ]
        }
      ],
      "source": [
        "def do_transpose(matrix: np.array) -> np.array:\n",
        "    mx = np.transpose(matrix)\n",
        "    return mx\n",
        "\n",
        "#a = np.array([[1,2],[3,4]])\n",
        "#print(do_transpose(a))"
      ]
    },
    {
      "cell_type": "code",
      "execution_count": null,
      "metadata": {
        "id": "7y6m9fYBAtgb"
      },
      "outputs": [],
      "source": [
        "# Készíts egy olyan függvényt ami az array-ben lévő értékeket N tizenedjegyik kerekíti, ha nincs megadva ez a paraméter, akkor legyen az alapértelmezett a kettő \n",
        "# Be: [0.1223, 0.1675], 2\n",
        "# Ki: [0.12, 0.17]\n",
        "# round_array()"
      ]
    },
    {
      "cell_type": "code",
      "execution_count": null,
      "metadata": {
        "id": "Gxlrss6AAtgb",
        "outputId": "4f9992dc-3d13-4c1c-ff0d-b0bfe9d93668"
      },
      "outputs": [
        {
          "name": "stdout",
          "output_type": "stream",
          "text": [
            "[0.122 0.168]\n"
          ]
        }
      ],
      "source": [
        "def round_array(array: np.array, decimals: int = 2) -> np.array:\n",
        "    arr = np.around(array, decimals)\n",
        "    return arr\n",
        "\n",
        "#a = np.array([0.1223, 0.1675])\n",
        "#print(round_array(a, 3))\n"
      ]
    },
    {
      "cell_type": "code",
      "execution_count": null,
      "metadata": {
        "id": "bQoxxbSnAtgb"
      },
      "outputs": [],
      "source": [
        "# Készíts egy olyan függvényt, ami a bementként kapott 0 és 1 ből álló tömben a 0 - False-ra, az 1 True-ra cserélni\n",
        "# Be: [[1, 0, 0], [1, 1, 1],[0, 0, 0]]\n",
        "# Ki: [[ True False False], [ True  True  True], [False False False]]\n",
        "# bool_array()"
      ]
    },
    {
      "cell_type": "code",
      "execution_count": 3,
      "metadata": {
        "colab": {
          "base_uri": "https://localhost:8080/"
        },
        "id": "_BbFP6UJAtgc",
        "outputId": "073b0d81-a07d-4e76-d1a7-9e0670ce4f47"
      },
      "outputs": [
        {
          "name": "stdout",
          "output_type": "stream",
          "text": [
            "[[ True False False]\n",
            " [ True  True  True]\n",
            " [False False False]]\n"
          ]
        }
      ],
      "source": [
        "def bool_array(arr: np.array) -> np.array:\n",
        "    return np.array(arr, dtype=bool)\n",
        "\n",
        "#a = [[1, 0, 0], [1, 1, 1],[0, 0, 0]]\n",
        "#print(bool_array(a))"
      ]
    },
    {
      "cell_type": "code",
      "execution_count": null,
      "metadata": {
        "id": "iRTmT8gHAtgc"
      },
      "outputs": [],
      "source": [
        "# Készíts egy olyan függvényt, ami a bementként kapott 0 és 1 ből álló tömben a 1 - False-ra az 0 True-ra cserélni\n",
        "# Be: [[1, 0, 0], [1, 1, 1],[0, 0, 0]]\n",
        "# Ki: [[ False True True], [ False  False  False], [True True True]]\n",
        "# invert_bool_array()"
      ]
    },
    {
      "cell_type": "code",
      "execution_count": 7,
      "metadata": {
        "colab": {
          "base_uri": "https://localhost:8080/"
        },
        "id": "cAUH52dRAtgc",
        "outputId": "36993174-228f-49d2-afa8-e9ee5cf2ebdc"
      },
      "outputs": [
        {
          "name": "stdout",
          "output_type": "stream",
          "text": [
            "[[False  True  True]\n",
            " [False False False]\n",
            " [ True  True  True]]\n"
          ]
        }
      ],
      "source": [
        "def invert_bool_array(arr: np.array) -> np.array:\n",
        "    return np.logical_not(arr)\n",
        "\n",
        "#a = [[1, 0, 0], [1, 1, 1],[0, 0, 0]]\n",
        "#print(invert_bool_array(a))"
      ]
    },
    {
      "cell_type": "code",
      "execution_count": null,
      "metadata": {
        "id": "qc_1jpldAtgc"
      },
      "outputs": [],
      "source": [
        "# Készíts egy olyan függvényt ami a paraméterként kapott array-t kilapítja\n",
        "# Be: [[1,2], [3,4]]\n",
        "# Ki: [1,2,3,4]\n",
        "# flatten()\n"
      ]
    },
    {
      "cell_type": "code",
      "execution_count": 12,
      "metadata": {
        "colab": {
          "base_uri": "https://localhost:8080/"
        },
        "id": "23vuTfRYAtgd",
        "outputId": "4b46ccba-e238-46d9-c66e-df503c4667c6"
      },
      "outputs": [
        {
          "name": "stdout",
          "output_type": "stream",
          "text": [
            "[1 0 0 1 1 1 0 0 0]\n"
          ]
        }
      ],
      "source": [
        "def flatten(arr: np.array) -> np.array:\n",
        "  #return arr.flatten()\n",
        "  #flattened = arr.flatten()\n",
        "  flattened = np.ravel(arr)\n",
        "  return flattened\n",
        "\n",
        "#a = np.array([[1, 0, 0], [1, 1, 1],[0, 0, 0]])\n",
        "#a = [[1, 0, 0], [1, 1, 1], [0, 0, 0]]\n",
        "#print(flatten(a))"
      ]
    }
  ],
  "metadata": {
    "colab": {
      "provenance": []
    },
    "kernelspec": {
      "display_name": "Python 3",
      "language": "python",
      "name": "python3"
    },
    "language_info": {
      "codemirror_mode": {
        "name": "ipython",
        "version": 3
      },
      "file_extension": ".py",
      "mimetype": "text/x-python",
      "name": "python",
      "nbconvert_exporter": "python",
      "pygments_lexer": "ipython3",
      "version": "3.8.3"
    },
    "orig_nbformat": 4,
    "vscode": {
      "interpreter": {
        "hash": "e98160ef274be69b74999ae5c11d4ffc32e3029e302421b0e5ff5329f3efcb88"
      }
    }
  },
  "nbformat": 4,
  "nbformat_minor": 0
}
