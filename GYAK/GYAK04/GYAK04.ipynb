{
  "cells": [
    {
      "cell_type": "code",
      "execution_count": 1,
      "metadata": {
        "id": "FWoembWP4fzp"
      },
      "outputs": [],
      "source": [
        "import pandas as pd\n",
        "import matplotlib.pyplot as plt"
      ]
    },
    {
      "cell_type": "code",
      "execution_count": null,
      "metadata": {
        "id": "lO6tWBK54fzq"
      },
      "outputs": [],
      "source": [
        "'''\n",
        "FONTOS: Az első feladatáltal visszaadott DataFrame-et kell használni a további feladatokhoz. \n",
        "A függvényeken belül mindig készíts egy másolatot a bemenő df-ről, (new_df = df.copy() és ezzel dolgozz tovább.)\n",
        "'''"
      ]
    },
    {
      "cell_type": "code",
      "execution_count": null,
      "metadata": {
        "id": "ZiOOyVt54fzv"
      },
      "outputs": [],
      "source": [
        "'''\n",
        "Készíts egy függvényt ami a bemeneti dictionary-ből egy DataFrame-et ad vissza.\n",
        "\n",
        "Egy példa a bemenetre: test_dict\n",
        "Egy példa a kimenetre: test_df\n",
        "return type: pandas.core.frame.DataFrame\n",
        "függvény neve: dict_to_dataframe\n",
        "'''"
      ]
    },
    {
      "cell_type": "code",
      "execution_count": 2,
      "metadata": {
        "id": "0Cw17CMl4fzw"
      },
      "outputs": [],
      "source": [
        "stats = {\"country\": [\"Brazil\", \"Russia\", \"India\", \"China\", \"South Africa\"],\n",
        "       \"capital\": [\"Brasilia\", \"Moscow\", \"New Dehli\", \"Beijing\", \"Pretoria\"],\n",
        "       \"area\": [8.516, 17.10, 3.286, 9.597, 1.221],\n",
        "       \"population\": [200.4, 143.5, 1252, 1357, 52.98] }\n"
      ]
    },
    {
      "cell_type": "code",
      "source": [
        "from pandas.io.formats.printing import Dict\n",
        "def dict_to_dataframe(input_dict: Dict) -> pd.core.frame.DataFrame:\n",
        "  #df = pd.DataFrame.from_dict(input_dict, orient='index')\n",
        "  #df.index.name = 'index'\n",
        "  df = pd.DataFrame(input_dict)\n",
        "  return df\n",
        "\n",
        "df = dict_to_dataframe(stats)"
      ],
      "metadata": {
        "id": "XhlHWrvu4zB9"
      },
      "execution_count": 4,
      "outputs": []
    },
    {
      "cell_type": "code",
      "execution_count": null,
      "metadata": {
        "id": "ZLppLg8l4fzw"
      },
      "outputs": [],
      "source": [
        "'''\n",
        "Készíts egy függvényt ami a bemeneti DataFrame-ből vissza adja csak azt az oszlopot amelynek a neve a bemeneti string-el megegyező.\n",
        "\n",
        "Egy példa a bemenetre: test_df, 'area'\n",
        "Egy példa a kimenetre: test_df\n",
        "return type: pandas.core.series.Series\n",
        "függvény neve: get_column\n",
        "'''"
      ]
    },
    {
      "cell_type": "code",
      "execution_count": null,
      "metadata": {
        "id": "GWqaOfpO4fzw",
        "colab": {
          "base_uri": "https://localhost:8080/"
        },
        "outputId": "c2325fae-68d9-4d58-c575-0ec2a280b6a1"
      },
      "outputs": [
        {
          "output_type": "stream",
          "name": "stdout",
          "text": [
            "0     8.516\n",
            "1    17.100\n",
            "2     3.286\n",
            "3     9.597\n",
            "4     1.221\n",
            "Name: area, dtype: float64\n"
          ]
        }
      ],
      "source": [
        "def get_column(input_df: pd.core.frame.DataFrame, column_name: str) -> pd.core.series.Series:\n",
        "  work_df = input_df.copy()\n",
        "  col = work_df[column_name]\n",
        "  return col\n",
        "\n",
        "#brasil = get_column(df, 'area')\n",
        "#print(brasil)"
      ]
    },
    {
      "cell_type": "code",
      "execution_count": null,
      "metadata": {
        "id": "0jBS2msE4fzw"
      },
      "outputs": [],
      "source": [
        "'''\n",
        "Készíts egy függvényt ami a bemeneti DataFrame-ből vissza adja a két legnagyobb területű országhoz tartozó sorokat.\n",
        "\n",
        "Egy példa a bemenetre: test_df\n",
        "Egy példa a kimenetre: test_df\n",
        "return type: pandas.core.frame.DataFrame\n",
        "függvény neve: get_top_two\n",
        "'''"
      ]
    },
    {
      "cell_type": "code",
      "execution_count": null,
      "metadata": {
        "id": "KJmekgsc4fzx",
        "colab": {
          "base_uri": "https://localhost:8080/"
        },
        "outputId": "5f238907-f08b-44c1-ffbf-f47433fc8e02"
      },
      "outputs": [
        {
          "output_type": "stream",
          "name": "stdout",
          "text": [
            "  country  capital    area  population\n",
            "1  Russia   Moscow  17.100       143.5\n",
            "3   China  Beijing   9.597      1357.0\n"
          ]
        }
      ],
      "source": [
        "def get_top_two(input_df:pd.core.frame.DataFrame) -> pd.core.frame.DataFrame:\n",
        "  work_df = input_df.copy()\n",
        "  rows = work_df.nlargest(2, 'area')\n",
        "  return rows\n",
        "\n",
        "#print(get_top_two(df))"
      ]
    },
    {
      "cell_type": "code",
      "execution_count": null,
      "metadata": {
        "id": "vtwkI7d44fzx"
      },
      "outputs": [],
      "source": [
        "'''\n",
        "Készíts egy függvényt ami a bemeneti DataFrame-ből kiszámolja az országok népsűrűségét és eltárolja az eredményt egy új oszlopba ('density').\n",
        "(density = population / area)\n",
        "\n",
        "Egy példa a bemenetre: test_df\n",
        "Egy példa a kimenetre: test_df\n",
        "return type: pandas.core.frame.DataFrame\n",
        "függvény neve: population_density\n",
        "'''"
      ]
    },
    {
      "cell_type": "code",
      "execution_count": null,
      "metadata": {
        "id": "lWEqSv9_4fzx",
        "colab": {
          "base_uri": "https://localhost:8080/"
        },
        "outputId": "bbdcae8d-bef4-47c7-96b4-42eaaf46b62d"
      },
      "outputs": [
        {
          "output_type": "stream",
          "name": "stdout",
          "text": [
            "        country    capital    area  population     density\n",
            "0        Brazil   Brasilia   8.516      200.40   23.532175\n",
            "1        Russia     Moscow  17.100      143.50    8.391813\n",
            "2         India  New Dehli   3.286     1252.00  381.010347\n",
            "3         China    Beijing   9.597     1357.00  141.398354\n",
            "4  South Africa   Pretoria   1.221       52.98   43.390663\n"
          ]
        }
      ],
      "source": [
        "def population_density(input_df:pd.core.frame.DataFrame) -> pd.core.frame.DataFrame:\n",
        "  work_df = input_df.copy()\n",
        "  density = work_df['population'] / work_df['area']\n",
        "  work_df['density'] = density\n",
        "  return work_df\n",
        "\n",
        "#print(population_density(df))"
      ]
    },
    {
      "cell_type": "code",
      "execution_count": null,
      "metadata": {
        "id": "7fOUFvU94fzx"
      },
      "outputs": [],
      "source": [
        "'''\n",
        "Készíts egy függvényt, ami a bemeneti Dataframe adatai alapján elkészít egy olyan oszlopdiagramot (bar plot),\n",
        "ami vizualizálja az országok népességét.\n",
        "\n",
        "Az oszlopdiagram címe legyen: 'Population of Countries'\n",
        "Az x tengely címe legyen: 'Country'\n",
        "Az y tengely címe legyen: 'Population (millions)'\n",
        "\n",
        "Egy példa a bemenetre: test_df\n",
        "Egy példa a kimenetre: fig\n",
        "return type: matplotlib.figure.Figure\n",
        "függvény neve: plot_population\n",
        "'''"
      ]
    },
    {
      "cell_type": "code",
      "execution_count": 8,
      "metadata": {
        "id": "NHGI5NsA4fzy",
        "colab": {
          "base_uri": "https://localhost:8080/",
          "height": 573
        },
        "outputId": "d60ba830-04de-4e0e-97c3-8a053977a8aa"
      },
      "outputs": [
        {
          "output_type": "execute_result",
          "data": {
            "text/plain": [
              "<Figure size 432x288 with 1 Axes>"
            ],
            "image/png": "[encoded data removed]"
          },
          "metadata": {},
          "execution_count": 8
        },
        {
          "output_type": "display_data",
          "data": {
            "text/plain": [
              "<Figure size 432x288 with 1 Axes>"
            ],
            "image/png": "[encoded data removed]"
          },
          "metadata": {
            "needs_background": "light"
          }
        }
      ],
      "source": [
        "def plot_population(input_df:pd.core.frame.DataFrame): \n",
        "  work_df = input_df.copy()\n",
        "\n",
        "  #create a figure and axis object\n",
        "  fig, ax = plt.subplots()\n",
        "\n",
        "  #plot the data to the axis\n",
        "  ax.bar(work_df['country'], work_df['population']/1000000)   #optional parameter: color='green'\n",
        "\n",
        "  #title\n",
        "  #plt.suptitle('Population of Countries')\n",
        "  ax.set_title('Population of Countries')\n",
        "  ax.set_xlabel('Country')\n",
        "  ax.set_ylabel('Population (millions)')\n",
        "\n",
        "  #ax.tick_params(axis='x', labelrotation=90)   #feliratok elforgatása 90 fokkal az x tengelyen\n",
        "\n",
        "  return fig\n",
        "  \n",
        "\n",
        "#plot_population(df)"
      ]
    },
    {
      "cell_type": "code",
      "execution_count": null,
      "metadata": {
        "id": "2__vwHkH4fzy"
      },
      "outputs": [],
      "source": [
        "'''\n",
        "Készíts egy függvényt, ami a bemeneti Dataframe adatai alapján elkészít egy olyan kördiagramot,\n",
        "ami vizualizálja az országok területét. Minden körcikknek legyen egy címe, ami az ország neve.\n",
        "\n",
        "Az kördiagram címe legyen: 'Area of Countries'\n",
        "\n",
        "Egy példa a bemenetre: test_df\n",
        "Egy példa a kimenetre: fig\n",
        "return type: matplotlib.figure.Figure\n",
        "függvény neve: plot_area\n",
        "'''"
      ]
    },
    {
      "cell_type": "code",
      "execution_count": 15,
      "metadata": {
        "id": "fMCjzdSI4fzy",
        "colab": {
          "base_uri": "https://localhost:8080/",
          "height": 511
        },
        "outputId": "8d3c09f2-5d17-4b08-f506-3de1bdbf9b35"
      },
      "outputs": [
        {
          "output_type": "execute_result",
          "data": {
            "text/plain": [
              "<Figure size 432x288 with 1 Axes>"
            ],
            "image/png": "[encoded data removed]"
          },
          "metadata": {},
          "execution_count": 15
        },
        {
          "output_type": "display_data",
          "data": {
            "text/plain": [
              "<Figure size 432x288 with 1 Axes>"
            ],
            "image/png": "[encoded data removed]"
          },
          "metadata": {}
        }
      ],
      "source": [
        "def plot_area(input_df:pd.core.frame.DataFrame):\n",
        "  work_df = input_df.copy()\n",
        "\n",
        "  #create a figure and axis object\n",
        "  fig, ax = plt.subplots()\n",
        "\n",
        "  ax.pie(work_df['area'], labels = work_df['country'])\n",
        "\n",
        "  ax.set_title('Area of Countries')\n",
        "\n",
        "  return fig\n",
        "\n",
        "#plot_area(df)\n",
        "\n",
        "\n"
      ]
    },
    {
      "cell_type": "code",
      "source": [],
      "metadata": {
        "id": "0dlNpPK5HlMV"
      },
      "execution_count": null,
      "outputs": []
    }
  ],
  "metadata": {
    "kernelspec": {
      "display_name": "Python 3",
      "language": "python",
      "name": "python3"
    },
    "language_info": {
      "codemirror_mode": {
        "name": "ipython",
        "version": 3
      },
      "file_extension": ".py",
      "mimetype": "text/x-python",
      "name": "python",
      "nbconvert_exporter": "python",
      "pygments_lexer": "ipython3",
      "version": "3.10.2"
    },
    "orig_nbformat": 4,
    "colab": {
      "provenance": []
    }
  },
  "nbformat": 4,
  "nbformat_minor": 0
}