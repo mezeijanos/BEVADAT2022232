{
  "cells": [
    {
      "cell_type": "code",
      "execution_count": 1,
      "metadata": {
        "id": "EwrQSv-CfJqx"
      },
      "outputs": [],
      "source": [
        "import numpy as np\n",
        "import seaborn as sns\n",
        "from typing import Tuple\n",
        "from scipy.stats import mode\n",
        "from sklearn.metrics import confusion_matrix\n",
        "\n",
        "\n",
        "#csv_path = \"archive/iris.data.csv\"\n",
        "csv_path = \"/content/iris.csv\""
      ]
    },
    {
      "cell_type": "markdown",
      "metadata": {
        "id": "QhA4X73wfJq8"
      },
      "source": [
        "Load data and clean, try loading without shuffle"
      ]
    },
    {
      "cell_type": "code",
      "execution_count": 2,
      "metadata": {
        "id": "neS_x69cfJq_"
      },
      "outputs": [],
      "source": [
        "def load_csv(csv_path:str) ->Tuple[np.ndarray,np.ndarray]:\n",
        "    np.random.seed(42)\n",
        "    dataset = np.genfromtxt(csv_path,delimiter=',')\n",
        "    np.random.shuffle(dataset,)\n",
        "    x,y = dataset[:,:4],dataset[:,-1]\n",
        "    return x,y"
      ]
    },
    {
      "cell_type": "code",
      "execution_count": 3,
      "metadata": {
        "id": "nphY99hQfJrA",
        "outputId": "4bdc3541-da3f-4364-9fd4-c611b590d7c2",
        "colab": {
          "base_uri": "https://localhost:8080/"
        }
      },
      "outputs": [
        {
          "output_type": "execute_result",
          "data": {
            "text/plain": [
              "(array([[ 6.100e+00,  2.800e+00,  4.700e+00,  1.200e+00],\n",
              "        [ 5.700e+00,  3.800e+00,  1.700e+00,  3.000e-01],\n",
              "        [ 7.700e+00,  2.600e+00,  6.900e+00,  2.300e+00],\n",
              "        [ 6.000e+00,  2.900e+00,  4.500e+00,  1.500e+00],\n",
              "        [ 6.800e+00,  2.800e+00, -1.111e+03,  1.400e+00],\n",
              "        [ 5.400e+00,  3.400e+00,  1.500e+00,  4.000e-01],\n",
              "        [ 5.600e+00,  2.900e+00,  3.600e+00,  1.300e+00],\n",
              "        [ 6.900e+00,  3.100e+00,  5.100e+00,  2.300e+00],\n",
              "        [ 6.200e+00,  2.200e+00,  4.500e+00,  1.500e+00],\n",
              "        [ 5.800e+00,  2.700e+00,  3.900e+00,  1.200e+00],\n",
              "        [ 6.500e+00,  3.200e+00,  5.100e+00,  2.000e+00],\n",
              "        [ 4.800e+00,  3.000e+00,  1.400e+00,  1.000e-01],\n",
              "        [ 5.500e+00,  3.500e+00,        nan,  2.000e-01],\n",
              "        [ 4.900e+00,  3.100e+00,  1.500e+00,  1.000e-01],\n",
              "        [ 5.100e+00,  1.000e+02,  1.500e+00,  3.000e-01],\n",
              "        [ 6.300e+00,  3.300e+00,  4.700e+00,  1.600e+00],\n",
              "        [ 6.500e+00,  3.000e+00,  5.800e+00,  2.200e+00],\n",
              "        [ 5.600e+00,  2.500e+00,  3.900e+00,  1.100e+00],\n",
              "        [       nan,  2.800e+00,  4.500e+00,        nan],\n",
              "        [ 6.400e+00,        nan,  5.600e+00,  2.200e+00],\n",
              "        [ 4.700e+00,  3.200e+00,  1.600e+00,  2.000e-01],\n",
              "        [ 6.100e+00,  3.000e+00,  4.900e+00,  1.800e+00],\n",
              "        [ 5.000e+00,  3.400e+00,  1.600e+00,  4.000e-01],\n",
              "        [ 6.400e+00,  2.800e+00,  5.600e+00,  2.100e+00],\n",
              "        [ 7.900e+00,  3.800e+00,  6.400e+00,  2.000e+00],\n",
              "        [ 6.700e+00,  3.000e+00,  5.200e+00,  2.300e+00],\n",
              "        [ 6.700e+00,  2.500e+00,  5.800e+00,  1.800e+00],\n",
              "        [ 6.800e+00,  3.200e+00,  1.000e+03,  2.300e+00],\n",
              "        [ 5.000e+04,  3.000e+00,  1.400e+00,  3.000e-01],\n",
              "        [ 4.800e+00,  3.100e+00,  1.600e+00,  2.000e-01],\n",
              "        [ 4.600e+00,  3.600e+00,  1.000e+00,  2.000e-01],\n",
              "        [ 5.700e+00,  4.400e+00,  1.500e+00,  4.000e-01],\n",
              "        [ 6.700e+00,  3.100e+00,  4.400e+00,  1.400e+00],\n",
              "        [       nan,  3.400e+00,  1.600e+00,  2.000e-01],\n",
              "        [ 4.400e+00,  3.200e+00,  1.300e+00,  2.000e-01],\n",
              "        [ 6.300e+00,  2.500e+00,  5.000e+00,  1.900e+00],\n",
              "        [ 6.400e+00,  3.200e+00,  4.500e+00,  1.500e+00],\n",
              "        [ 5.200e+00,  3.500e+00,  1.500e+00,  2.000e-01],\n",
              "        [ 5.000e+00,  3.600e+00,  1.400e+00,  2.000e-01],\n",
              "        [ 5.200e+00,  4.100e+00,  1.500e+00,  1.000e-01],\n",
              "        [ 5.800e+00,  2.700e+00,  5.100e+00,  1.900e+00],\n",
              "        [ 6.000e+00,  3.400e+00,  4.500e+00,  1.600e+00],\n",
              "        [ 6.700e+00,  3.100e+00,  4.700e+00,  1.500e+00],\n",
              "        [ 5.400e+00,  3.900e+00,  1.300e+00,  4.000e-01],\n",
              "        [ 5.400e+00,  3.700e+00,  1.500e+00,  2.000e-01],\n",
              "        [ 5.500e+00,  2.400e+00,  3.700e+00,  1.000e+00],\n",
              "        [ 6.300e+00,  2.800e+00,  5.100e+00,  1.500e+00],\n",
              "        [ 6.400e+00,  3.100e+00,  5.500e+00,  1.800e+00],\n",
              "        [ 6.600e+00,  3.000e+00,  4.400e+00,  1.400e+00],\n",
              "        [ 7.200e+00,  3.600e+00,  6.100e+00,  2.500e+00],\n",
              "        [ 5.700e+00,  2.900e+00,  4.200e+00,  1.300e+00],\n",
              "        [ 7.600e+00,  3.000e+00,  6.600e+00,  2.100e+00],\n",
              "        [       nan,  3.000e+00,  4.500e+00,  1.500e+00],\n",
              "        [ 5.100e+00,  3.500e+00,  1.400e+00,  2.000e-01],\n",
              "        [ 7.700e+00,  2.800e+00,  6.700e+00,  2.000e+00],\n",
              "        [ 5.800e+00,  2.700e+00,  4.100e+00,  1.000e+00],\n",
              "        [ 5.200e+00,  3.400e+00,  1.400e+00,  2.000e-01],\n",
              "        [ 5.000e+00,  3.500e+00,  1.300e+00,  3.000e-01],\n",
              "        [ 5.100e+00,  3.800e+00,  1.900e+00,  4.000e-01],\n",
              "        [ 5.000e+00,  2.000e+00,  3.500e+00,  1.000e+00],\n",
              "        [ 6.300e+00,  2.700e+00,  4.900e+00,  1.800e+00],\n",
              "        [ 4.800e+00,  3.400e+00,  1.900e+00,  2.000e-01],\n",
              "        [ 5.000e+00,  3.000e+00,  1.600e+00,  3.000e+03],\n",
              "        [       nan,  3.300e+00,  1.700e+00,  5.000e-01],\n",
              "        [ 5.600e+00,  2.700e+00,        nan,  1.300e+00],\n",
              "        [ 5.100e+00,  3.400e+00,  1.500e+00,  2.000e-01],\n",
              "        [ 5.700e+00,  3.000e+00,  4.200e+00,  1.200e+00],\n",
              "        [ 7.700e+00,  3.800e+00,  6.700e+00,  2.200e+00],\n",
              "        [ 4.600e+00,  3.200e+00,  1.400e+00,  2.000e-01],\n",
              "        [ 6.200e+00,  2.900e+00,  4.300e+00,  1.300e+00],\n",
              "        [ 5.700e+00,  2.500e+00,  5.000e+00,  2.000e+00],\n",
              "        [ 5.500e+00,  4.200e+00,  1.400e+00,  2.000e-01],\n",
              "        [ 6.000e+00,  3.000e+00,  4.800e+00,        nan],\n",
              "        [ 5.800e+00,  2.700e+00,  5.100e+00,  1.900e+00],\n",
              "        [ 6.000e+00,  2.200e+00,  4.000e+00,  1.000e+00],\n",
              "        [ 5.400e+00,  3.000e+00,  4.500e+00,  1.500e+00],\n",
              "        [       nan,  3.400e+00,  5.400e+00,  2.300e+00],\n",
              "        [ 5.500e+00,  2.300e+00,  4.000e+00,  1.300e+00],\n",
              "        [ 5.400e+00,  3.900e+00,  1.700e+00,        nan],\n",
              "        [ 5.000e+00,  2.300e+00,  3.300e+00,  1.000e+00],\n",
              "        [ 6.400e+00,  2.700e+00,  5.300e+00,  1.900e+00],\n",
              "        [ 5.000e+00,  3.300e+00,  1.400e+00,  2.000e-01],\n",
              "        [ 5.000e+00,  3.200e+00,  1.200e+00,  2.000e-01],\n",
              "        [ 5.500e+00,  2.400e+00,  3.800e+00,  1.100e+00],\n",
              "        [ 6.700e+00,  3.000e+00,  5.000e+00,  1.700e+00],\n",
              "        [ 4.900e+00,  3.100e+00,  1.500e+00,  1.000e-01],\n",
              "        [ 5.800e+00,  2.800e+00,  5.100e+00,  2.400e+00],\n",
              "        [ 5.000e+00,  3.400e+00,  1.500e+00,  2.000e-01],\n",
              "        [ 5.000e+00,  3.500e+00,  1.600e+00,  6.000e-01],\n",
              "        [ 5.900e+00,  3.200e+00,  4.800e+00,  1.800e+00],\n",
              "        [ 5.100e+00,  2.500e+00,  3.000e+00,  1.100e+00],\n",
              "        [ 6.900e+00,  3.200e+00,  5.700e+00,  2.300e+00],\n",
              "        [ 6.000e+00,  2.700e+00,  5.100e+00,  1.600e+00],\n",
              "        [ 6.100e+00,  2.600e+00,  5.600e+00,  1.400e+00],\n",
              "        [ 7.700e+00,  3.000e+00,  6.100e+00,  2.300e+00],\n",
              "        [ 5.500e+00,  2.500e+00,  4.000e+00,  1.300e+00],\n",
              "        [ 4.400e+00,  2.900e+00,  1.400e+00,  2.000e-01],\n",
              "        [ 4.300e+00,  3.000e+00,  1.100e+00,  1.000e-01],\n",
              "        [ 6.000e+00,  2.200e+00,  5.000e+00,  1.500e+00],\n",
              "        [ 7.200e+00,  3.200e+00,  6.000e+00,  1.800e+00],\n",
              "        [ 4.600e+00,  3.100e+00,  1.500e+00,  2.000e-01],\n",
              "        [ 5.100e+00,  3.500e+00,  1.400e+00,  3.000e-01],\n",
              "        [ 4.400e+00,  3.000e+00,  1.300e+00,  2.000e-01],\n",
              "        [ 6.300e+00,  2.500e+00,  4.900e+00,  1.500e+00],\n",
              "        [ 6.300e+00,  3.400e+00,  5.600e+00,  2.400e+00],\n",
              "        [ 4.600e+00,  3.400e+00,  1.400e+00,  3.000e-01],\n",
              "        [ 6.800e+00,  3.000e+00,  5.500e+00,  2.100e+00],\n",
              "        [ 6.300e+00,  3.300e+00,  6.000e+00,  2.500e+00],\n",
              "        [ 4.700e+00,  3.200e+00,  1.300e+00,  2.000e-01],\n",
              "        [ 6.100e+00,  2.900e+00,  4.700e+00,  1.400e+00],\n",
              "        [ 6.500e+00,  2.800e+00,  4.600e+00,  1.500e+00],\n",
              "        [ 6.200e+00,  2.800e+00,  4.800e+00,  1.800e+00],\n",
              "        [ 7.000e+00,  3.200e+00,  4.700e+00,  1.400e+00],\n",
              "        [ 6.400e+00,  3.200e+00,  5.300e+00,  2.300e+00],\n",
              "        [ 5.100e+00,  3.800e+00,  1.600e+00,  2.000e-01],\n",
              "        [ 6.900e+00,  3.100e+00,  5.400e+00,  2.100e+00],\n",
              "        [ 5.900e+00,  3.000e+00,  4.200e+00,  1.500e+00],\n",
              "        [ 6.500e+00,  3.000e+00,  5.200e+00,  2.000e+00],\n",
              "        [ 5.700e+00,  2.600e+00,  3.500e+00,        nan],\n",
              "        [ 5.200e+00,  2.700e+00,  3.900e+00,  1.400e+00],\n",
              "        [       nan,  3.000e+00,  4.600e+00,  1.400e+00],\n",
              "        [ 4.500e+00,  2.300e+00,  1.300e+00,  3.000e-01],\n",
              "        [ 6.600e+00,  2.900e+00,  4.600e+00,  1.300e+00],\n",
              "        [ 5.500e+00,  2.600e+00,  4.400e+00,  1.200e+00],\n",
              "        [ 5.300e+00,  3.700e+00,  1.500e+00,  2.000e-01],\n",
              "        [ 5.600e+00,  3.000e+00,  4.100e+00,  1.300e+00],\n",
              "        [ 7.300e+00,  2.900e+00,  6.300e+00,  1.800e+00],\n",
              "        [ 6.700e+00,  3.300e+00,  5.700e+00,  2.100e+00],\n",
              "        [ 5.100e+00,  3.700e+00,  1.500e+00,  4.000e-01],\n",
              "        [ 4.900e+00,  2.400e+00,  3.300e+00,  1.000e+00],\n",
              "        [ 6.700e+00,  3.300e+00,  5.700e+00,  2.500e+00],\n",
              "        [ 7.200e+00,  3.000e+00,  5.800e+00,  1.600e+00],\n",
              "        [ 4.900e+00,  3.100e+00,  1.500e+00,  1.000e-01],\n",
              "        [       nan,  3.100e+00,  5.600e+00,  2.400e+00],\n",
              "        [ 4.900e+00,  3.000e+00,  1.400e+00,  2.000e-01],\n",
              "        [ 6.900e+00,  3.100e+00,  4.900e+00,  1.500e+00],\n",
              "        [ 7.400e+00,  2.800e+00,  6.100e+00,  1.900e+00],\n",
              "        [ 6.300e+00,  2.900e+00,  5.600e+00,  1.800e+00],\n",
              "        [ 5.700e+00,  2.800e+00,  4.100e+00,  1.300e+00],\n",
              "        [ 6.500e+00,  3.000e+00,  5.500e+00,  1.800e+00],\n",
              "        [ 6.300e+00, -4.200e+04,  4.400e+00,  1.300e+00],\n",
              "        [ 6.400e+00,  2.900e+00,  4.300e+00,  1.300e+00],\n",
              "        [ 5.600e+00,        nan,  4.900e+00,  2.000e+00],\n",
              "        [ 5.900e+00,  3.000e+00,  5.100e+00,  1.800e+00],\n",
              "        [ 5.400e+00,  3.400e+00,  1.700e+00,  2.000e-01],\n",
              "        [ 6.100e+00,  2.800e+00,  4.000e+00,  1.300e+00],\n",
              "        [ 4.900e+00,  2.500e+00,  4.500e+00,  1.700e+00],\n",
              "        [ 5.800e+00,  4.000e+00,  1.200e+00,  2.000e-01],\n",
              "        [ 5.800e+00,  2.600e+00,  4.000e+00,  1.200e+00],\n",
              "        [ 7.100e+00,  3.000e+00,  5.900e+00,  2.100e+00]]),\n",
              " array([1., 0., 2., 1., 1., 0., 1., 2., 1., 1., 2., 0., 0., 0., 0., 1., 2.,\n",
              "        1., 1., 2., 0., 2., 0., 2., 2., 2., 2., 2., 0., 0., 0., 0., 1., 0.,\n",
              "        0., 2., 1., 0., 0., 0., 2., 1., 1., 0., 0., 1., 2., 2., 1., 2., 1.,\n",
              "        2., 1., 0., 2., 1., 0., 0., 0., 1., 2., 0., 0., 0., 1., 0., 1., 2.,\n",
              "        0., 1., 2., 0., 2., 2., 1., 1., 2., 1., 0., 1., 2., 0., 0., 1., 1.,\n",
              "        0., 2., 0., 0., 1., 1., 2., 1., 2., 2., 1., 0., 0., 2., 2., 0., 0.,\n",
              "        0., 1., 2., 0., 2., 2., 0., 1., 1., 2., 1., 2., 0., 2., 1., 2., 1.,\n",
              "        1., 1., 0., 1., 1., 0., 1., 2., 2., 0., 1., 2., 2., 0., 2., 0., 1.,\n",
              "        2., 2., 1., 2., 1., 1., 2., 2., 0., 1., 2., 0., 1., 2.]))"
            ]
          },
          "metadata": {},
          "execution_count": 3
        }
      ],
      "source": [
        "x,y = load_csv(csv_path)\n",
        "x,y"
      ]
    },
    {
      "cell_type": "code",
      "execution_count": null,
      "metadata": {
        "id": "vIpV-NZifJrB",
        "colab": {
          "base_uri": "https://localhost:8080/"
        },
        "outputId": "ce386821-3626-4edd-d40d-fa559aaa5aca"
      },
      "outputs": [
        {
          "output_type": "execute_result",
          "data": {
            "text/plain": [
              "(array([nan, nan, nan, nan]), array([nan, nan, nan, nan]))"
            ]
          },
          "metadata": {},
          "execution_count": 12
        }
      ],
      "source": [
        "np.mean(x,axis=0),np.var(x,axis=0)"
      ]
    },
    {
      "cell_type": "code",
      "execution_count": null,
      "metadata": {
        "id": "Jnf2BgyNfJrB",
        "colab": {
          "base_uri": "https://localhost:8080/"
        },
        "outputId": "e3c2d063-3190-4158-df11-93a0fdabf598"
      },
      "outputs": [
        {
          "output_type": "execute_result",
          "data": {
            "text/plain": [
              "(array([ 355.46503497, -280.09189189,    2.95      ,   21.74726027]),\n",
              " array([1.73561968e+07, 1.18405444e+07, 1.51049922e+04, 6.11729208e+04]))"
            ]
          },
          "metadata": {},
          "execution_count": 13
        }
      ],
      "source": [
        "np.nanmean(x,axis=0),np.nanvar(x,axis=0)"
      ]
    },
    {
      "cell_type": "code",
      "execution_count": null,
      "metadata": {
        "id": "ioSeNpWcfJrC",
        "colab": {
          "base_uri": "https://localhost:8080/"
        },
        "outputId": "8710b07f-7795-4dea-adca-73a5cd28901b"
      },
      "outputs": [
        {
          "output_type": "execute_result",
          "data": {
            "text/plain": [
              "(150, 4)"
            ]
          },
          "metadata": {},
          "execution_count": 14
        }
      ],
      "source": [
        "x[np.isnan(x)] = 3.5\n",
        "x.shape"
      ]
    },
    {
      "cell_type": "code",
      "execution_count": null,
      "metadata": {
        "id": "YDpsfP1CfJrD",
        "colab": {
          "base_uri": "https://localhost:8080/"
        },
        "outputId": "d6310702-9c45-4211-9c53-716d262e6c5e"
      },
      "outputs": [
        {
          "output_type": "execute_result",
          "data": {
            "text/plain": [
              "(array([ 339.04      , -276.31066667,    2.95733333,   21.26066667]),\n",
              " array([1.65517522e+07, 1.16837285e+07, 1.49035963e+04, 5.95502852e+04]))"
            ]
          },
          "metadata": {},
          "execution_count": 15
        }
      ],
      "source": [
        "np.mean(x,axis=0),np.var(x,axis=0)"
      ]
    },
    {
      "cell_type": "code",
      "execution_count": null,
      "metadata": {
        "id": "qiCV4RJyfJrD",
        "colab": {
          "base_uri": "https://localhost:8080/"
        },
        "outputId": "cf0ff5ae-58bf-4c44-e22d-7bf307f32ac8"
      },
      "outputs": [
        {
          "output_type": "execute_result",
          "data": {
            "text/plain": [
              "(4, 2)"
            ]
          },
          "metadata": {},
          "execution_count": 16
        }
      ],
      "source": [
        "(x > 13.0).sum(), (x < 0.0).sum()"
      ]
    },
    {
      "cell_type": "code",
      "execution_count": null,
      "metadata": {
        "id": "IWKIbNb3fJrE",
        "colab": {
          "base_uri": "https://localhost:8080/"
        },
        "outputId": "8649206b-8c9f-434c-bf27-a1fa3961f808"
      },
      "outputs": [
        {
          "output_type": "execute_result",
          "data": {
            "text/plain": [
              "array([ -1111.,    100.,   1000.,  50000.,   3000., -42000.])"
            ]
          },
          "metadata": {},
          "execution_count": 17
        }
      ],
      "source": [
        "x[np.where(np.logical_or(x > 13.0,x < 0.0))]"
      ]
    },
    {
      "cell_type": "code",
      "execution_count": null,
      "metadata": {
        "id": "p67ec8R5fJrE",
        "colab": {
          "base_uri": "https://localhost:8080/"
        },
        "outputId": "92820bca-5bb4-479b-bb4d-bdada7fb7c4a"
      },
      "outputs": [
        {
          "output_type": "execute_result",
          "data": {
            "text/plain": [
              "((array([  4, 140]), array([2, 1])),\n",
              " (array([14, 27, 28, 62]), array([1, 2, 0, 3])))"
            ]
          },
          "metadata": {},
          "execution_count": 18
        }
      ],
      "source": [
        "less_than = np.where(x < 0.0)\n",
        "higher_than = np.where(x > 13.0)\n",
        "less_than,higher_than"
      ]
    },
    {
      "cell_type": "code",
      "execution_count": null,
      "metadata": {
        "id": "mr7PE9WyfJrF",
        "colab": {
          "base_uri": "https://localhost:8080/"
        },
        "outputId": "0881cc33-4661-44e7-8915-d7eff0c600e3"
      },
      "outputs": [
        {
          "output_type": "execute_result",
          "data": {
            "text/plain": [
              "((144, 4), (144,))"
            ]
          },
          "metadata": {},
          "execution_count": 19
        }
      ],
      "source": [
        "y = np.delete(y,np.where(x < 0.0)[0],axis=0)\n",
        "y = np.delete(y,np.where(x > 13.0)[0],axis=0)\n",
        "x = np.delete(x,np.where(x < 0.0)[0],axis=0)\n",
        "x = np.delete(x,np.where(x > 13.0)[0],axis=0)\n",
        "x.shape,y.shape"
      ]
    },
    {
      "cell_type": "markdown",
      "metadata": {
        "id": "75Xs6r13fJrG"
      },
      "source": [
        "Train test split\n",
        "try optim"
      ]
    },
    {
      "cell_type": "code",
      "execution_count": null,
      "metadata": {
        "id": "CnIgVsSFfJrG"
      },
      "outputs": [],
      "source": [
        "def train_test_split(features:np.ndarray,\n",
        "                     labels:np.ndarray,\n",
        "                     test_split_ratio:float) -> None:\n",
        "        \n",
        "    test_size = int(len(features) * test_split_ratio)\n",
        "    train_size = len(features) - test_size\n",
        "    assert len(features) == test_size + train_size, \"Size mismatch!\"\n",
        "\n",
        "    x_train,y_train = features[:train_size,:],labels[:train_size]\n",
        "    x_test,y_test = features[train_size:train_size+test_size,:], labels[train_size:train_size + test_size]\n",
        "    return (x_train,y_train,x_test,y_test)"
      ]
    },
    {
      "cell_type": "markdown",
      "metadata": {
        "id": "0NPh980efJrH"
      },
      "source": [
        "Distance"
      ]
    },
    {
      "cell_type": "code",
      "execution_count": null,
      "metadata": {
        "id": "jWDYjuqPfJrH"
      },
      "outputs": [],
      "source": [
        "def euclidean(points:np.ndarray,element_of_x:np.ndarray) -> np.ndarray:\n",
        "    return np.sqrt(np.sum((points - element_of_x)**2,axis=1))"
      ]
    },
    {
      "cell_type": "markdown",
      "metadata": {
        "id": "d2kiqO7tfJrI"
      },
      "source": [
        "Predict func"
      ]
    },
    {
      "cell_type": "code",
      "execution_count": null,
      "metadata": {
        "id": "k4xq7os_fJrI"
      },
      "outputs": [],
      "source": [
        "def predict(x_train:np.ndarray,y_train:np.ndarray,x_test:np.ndarray,k:int) -> np.ndarray:\n",
        "    labels_pred = []\n",
        "    for x_test_element in x_test:\n",
        "        distances = euclidean(x_train,x_test_element)\n",
        "        distances = np.array(sorted(zip(distances,y_train)))\n",
        "        label_pred = mode(distances[:k,1],keepdims=False).mode\n",
        "        labels_pred.append(label_pred)\n",
        "    return np.array(labels_pred,dtype=np.int32)"
      ]
    },
    {
      "cell_type": "markdown",
      "metadata": {
        "id": "9BBrGQEsfJrJ"
      },
      "source": [
        "Metrics"
      ]
    },
    {
      "cell_type": "code",
      "execution_count": null,
      "metadata": {
        "id": "SlVOZhLhfJrJ"
      },
      "outputs": [],
      "source": [
        "def accuracy(y_test:np.ndarray,y_preds:np.ndarray) -> float:\n",
        "    true_positive = (y_test == y_preds).sum()\n",
        "    return true_positive / len(y_test) * 100"
      ]
    },
    {
      "cell_type": "code",
      "execution_count": null,
      "metadata": {
        "id": "fvRLtGTOfJrJ"
      },
      "outputs": [],
      "source": [
        "def plot_confusion_matrix(y_test:np.ndarray,y_preds:np.ndarray):\n",
        "        conf_matrix = confusion_matrix(y_test,y_preds)\n",
        "        sns.heatmap(conf_matrix,annot=True)"
      ]
    }
  ],
  "metadata": {
    "kernelspec": {
      "display_name": "Julia 1.8.5",
      "language": "julia",
      "name": "julia-1.8"
    },
    "language_info": {
      "file_extension": ".jl",
      "mimetype": "application/julia",
      "name": "julia",
      "version": "1.8.5"
    },
    "orig_nbformat": 4,
    "colab": {
      "provenance": []
    }
  },
  "nbformat": 4,
  "nbformat_minor": 0
}